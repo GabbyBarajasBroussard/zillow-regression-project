{
 "cells": [
  {
   "cell_type": "code",
   "execution_count": 1,
   "metadata": {},
   "outputs": [],
   "source": [
    "# Preparing the notebook by importing necessary modules\n",
    "import acquire\n",
    "import prepare\n",
    "from sklearn.model_selection import train_test_split\n",
    "\n",
    "\n",
    "from sklearn.metrics import mean_squared_error, explained_variance_score\n",
    "from scipy import stats\n",
    "from math import sqrt\n",
    "import pandas as pd\n",
    "import numpy as np\n",
    "import seaborn as sns\n",
    "import matplotlib.pyplot as plt\n",
    "%matplotlib inline\n",
    "\n",
    "import warnings\n",
    "warnings.filterwarnings(\"ignore\")"
   ]
  },
  {
   "cell_type": "markdown",
   "metadata": {},
   "source": [
    "# Acquire "
   ]
  },
  {
   "cell_type": "code",
   "execution_count": 2,
   "metadata": {},
   "outputs": [
    {
     "data": {
      "text/plain": [
       "(28073, 11)"
      ]
     },
     "execution_count": 2,
     "metadata": {},
     "output_type": "execute_result"
    }
   ],
   "source": [
    "df= acquire.get_zillow_data()\n",
    "df.shape"
   ]
  },
  {
   "cell_type": "code",
   "execution_count": 3,
   "metadata": {},
   "outputs": [
    {
     "name": "stdout",
     "output_type": "stream",
     "text": [
      "<class 'pandas.core.frame.DataFrame'>\n",
      "RangeIndex: 28073 entries, 0 to 28072\n",
      "Data columns (total 11 columns):\n",
      " #   Column                        Non-Null Count  Dtype  \n",
      "---  ------                        --------------  -----  \n",
      " 0   Unnamed: 0                    28073 non-null  int64  \n",
      " 1   parcelid                      28073 non-null  int64  \n",
      " 2   fips                          28073 non-null  float64\n",
      " 3   latitude                      28073 non-null  float64\n",
      " 4   longitude                     28073 non-null  float64\n",
      " 5   lotsizesquarefeet             27876 non-null  float64\n",
      " 6   calculatedfinishedsquarefeet  28070 non-null  float64\n",
      " 7   bedroomcnt                    28073 non-null  float64\n",
      " 8   bathroomcnt                   28073 non-null  float64\n",
      " 9   taxamount                     28072 non-null  float64\n",
      " 10  taxvaluedollarcnt             28072 non-null  float64\n",
      "dtypes: float64(9), int64(2)\n",
      "memory usage: 2.4 MB\n"
     ]
    }
   ],
   "source": [
    "df.info()"
   ]
  },
  {
   "cell_type": "code",
   "execution_count": 4,
   "metadata": {},
   "outputs": [
    {
     "data": {
      "text/html": [
       "<div>\n",
       "<style scoped>\n",
       "    .dataframe tbody tr th:only-of-type {\n",
       "        vertical-align: middle;\n",
       "    }\n",
       "\n",
       "    .dataframe tbody tr th {\n",
       "        vertical-align: top;\n",
       "    }\n",
       "\n",
       "    .dataframe thead th {\n",
       "        text-align: right;\n",
       "    }\n",
       "</style>\n",
       "<table border=\"1\" class=\"dataframe\">\n",
       "  <thead>\n",
       "    <tr style=\"text-align: right;\">\n",
       "      <th></th>\n",
       "      <th>Unnamed: 0</th>\n",
       "      <th>parcelid</th>\n",
       "      <th>fips</th>\n",
       "      <th>latitude</th>\n",
       "      <th>longitude</th>\n",
       "      <th>lotsizesquarefeet</th>\n",
       "      <th>calculatedfinishedsquarefeet</th>\n",
       "      <th>bedroomcnt</th>\n",
       "      <th>bathroomcnt</th>\n",
       "      <th>taxamount</th>\n",
       "      <th>taxvaluedollarcnt</th>\n",
       "    </tr>\n",
       "  </thead>\n",
       "  <tbody>\n",
       "    <tr>\n",
       "      <th>count</th>\n",
       "      <td>28073.00000</td>\n",
       "      <td>2.807300e+04</td>\n",
       "      <td>28073.000000</td>\n",
       "      <td>2.807300e+04</td>\n",
       "      <td>2.807300e+04</td>\n",
       "      <td>2.787600e+04</td>\n",
       "      <td>28070.000000</td>\n",
       "      <td>28073.000000</td>\n",
       "      <td>28073.000000</td>\n",
       "      <td>28072.000000</td>\n",
       "      <td>2.807200e+04</td>\n",
       "    </tr>\n",
       "    <tr>\n",
       "      <th>mean</th>\n",
       "      <td>14036.00000</td>\n",
       "      <td>1.303448e+07</td>\n",
       "      <td>6049.496349</td>\n",
       "      <td>3.402023e+07</td>\n",
       "      <td>-1.181959e+08</td>\n",
       "      <td>1.110263e+04</td>\n",
       "      <td>1935.358283</td>\n",
       "      <td>3.317814</td>\n",
       "      <td>2.322196</td>\n",
       "      <td>6487.964122</td>\n",
       "      <td>5.332710e+05</td>\n",
       "    </tr>\n",
       "    <tr>\n",
       "      <th>std</th>\n",
       "      <td>8104.12139</td>\n",
       "      <td>3.634770e+06</td>\n",
       "      <td>21.285999</td>\n",
       "      <td>2.750596e+05</td>\n",
       "      <td>3.603042e+05</td>\n",
       "      <td>6.937799e+04</td>\n",
       "      <td>995.141621</td>\n",
       "      <td>0.928716</td>\n",
       "      <td>1.011392</td>\n",
       "      <td>8166.165051</td>\n",
       "      <td>7.036372e+05</td>\n",
       "    </tr>\n",
       "    <tr>\n",
       "      <th>min</th>\n",
       "      <td>0.00000</td>\n",
       "      <td>1.071186e+07</td>\n",
       "      <td>6037.000000</td>\n",
       "      <td>3.334085e+07</td>\n",
       "      <td>-1.194484e+08</td>\n",
       "      <td>2.360000e+02</td>\n",
       "      <td>300.000000</td>\n",
       "      <td>1.000000</td>\n",
       "      <td>1.000000</td>\n",
       "      <td>51.260000</td>\n",
       "      <td>1.000000e+03</td>\n",
       "    </tr>\n",
       "    <tr>\n",
       "      <th>25%</th>\n",
       "      <td>7018.00000</td>\n",
       "      <td>1.150992e+07</td>\n",
       "      <td>6037.000000</td>\n",
       "      <td>3.382229e+07</td>\n",
       "      <td>-1.184054e+08</td>\n",
       "      <td>5.591000e+03</td>\n",
       "      <td>1279.000000</td>\n",
       "      <td>3.000000</td>\n",
       "      <td>2.000000</td>\n",
       "      <td>2705.097500</td>\n",
       "      <td>1.986365e+05</td>\n",
       "    </tr>\n",
       "    <tr>\n",
       "      <th>50%</th>\n",
       "      <td>14036.00000</td>\n",
       "      <td>1.259418e+07</td>\n",
       "      <td>6037.000000</td>\n",
       "      <td>3.402298e+07</td>\n",
       "      <td>-1.181536e+08</td>\n",
       "      <td>6.851000e+03</td>\n",
       "      <td>1675.000000</td>\n",
       "      <td>3.000000</td>\n",
       "      <td>2.000000</td>\n",
       "      <td>4734.315000</td>\n",
       "      <td>3.822645e+05</td>\n",
       "    </tr>\n",
       "    <tr>\n",
       "      <th>75%</th>\n",
       "      <td>21054.00000</td>\n",
       "      <td>1.414833e+07</td>\n",
       "      <td>6059.000000</td>\n",
       "      <td>3.418804e+07</td>\n",
       "      <td>-1.179270e+08</td>\n",
       "      <td>8.800000e+03</td>\n",
       "      <td>2326.000000</td>\n",
       "      <td>4.000000</td>\n",
       "      <td>3.000000</td>\n",
       "      <td>7516.247500</td>\n",
       "      <td>6.316750e+05</td>\n",
       "    </tr>\n",
       "    <tr>\n",
       "      <th>max</th>\n",
       "      <td>28072.00000</td>\n",
       "      <td>1.676392e+08</td>\n",
       "      <td>6111.000000</td>\n",
       "      <td>3.481877e+07</td>\n",
       "      <td>-1.175554e+08</td>\n",
       "      <td>6.971010e+06</td>\n",
       "      <td>17245.000000</td>\n",
       "      <td>12.000000</td>\n",
       "      <td>11.000000</td>\n",
       "      <td>276797.830000</td>\n",
       "      <td>2.385837e+07</td>\n",
       "    </tr>\n",
       "  </tbody>\n",
       "</table>\n",
       "</div>"
      ],
      "text/plain": [
       "        Unnamed: 0      parcelid          fips      latitude     longitude  \\\n",
       "count  28073.00000  2.807300e+04  28073.000000  2.807300e+04  2.807300e+04   \n",
       "mean   14036.00000  1.303448e+07   6049.496349  3.402023e+07 -1.181959e+08   \n",
       "std     8104.12139  3.634770e+06     21.285999  2.750596e+05  3.603042e+05   \n",
       "min        0.00000  1.071186e+07   6037.000000  3.334085e+07 -1.194484e+08   \n",
       "25%     7018.00000  1.150992e+07   6037.000000  3.382229e+07 -1.184054e+08   \n",
       "50%    14036.00000  1.259418e+07   6037.000000  3.402298e+07 -1.181536e+08   \n",
       "75%    21054.00000  1.414833e+07   6059.000000  3.418804e+07 -1.179270e+08   \n",
       "max    28072.00000  1.676392e+08   6111.000000  3.481877e+07 -1.175554e+08   \n",
       "\n",
       "       lotsizesquarefeet  calculatedfinishedsquarefeet    bedroomcnt  \\\n",
       "count       2.787600e+04                  28070.000000  28073.000000   \n",
       "mean        1.110263e+04                   1935.358283      3.317814   \n",
       "std         6.937799e+04                    995.141621      0.928716   \n",
       "min         2.360000e+02                    300.000000      1.000000   \n",
       "25%         5.591000e+03                   1279.000000      3.000000   \n",
       "50%         6.851000e+03                   1675.000000      3.000000   \n",
       "75%         8.800000e+03                   2326.000000      4.000000   \n",
       "max         6.971010e+06                  17245.000000     12.000000   \n",
       "\n",
       "        bathroomcnt      taxamount  taxvaluedollarcnt  \n",
       "count  28073.000000   28072.000000       2.807200e+04  \n",
       "mean       2.322196    6487.964122       5.332710e+05  \n",
       "std        1.011392    8166.165051       7.036372e+05  \n",
       "min        1.000000      51.260000       1.000000e+03  \n",
       "25%        2.000000    2705.097500       1.986365e+05  \n",
       "50%        2.000000    4734.315000       3.822645e+05  \n",
       "75%        3.000000    7516.247500       6.316750e+05  \n",
       "max       11.000000  276797.830000       2.385837e+07  "
      ]
     },
     "execution_count": 4,
     "metadata": {},
     "output_type": "execute_result"
    }
   ],
   "source": [
    "df.describe()"
   ]
  },
  {
   "cell_type": "markdown",
   "metadata": {},
   "source": [
    "Originally I got 77614 rows and 10 columns. I went back and edited my sql query to narrow features more closely.\n",
    "After editing my query to have bedrooms/bathrooms > 0, I got 28703 rows and 9 columns."
   ]
  },
  {
   "cell_type": "markdown",
   "metadata": {},
   "source": [
    "# Prepare"
   ]
  },
  {
   "cell_type": "markdown",
   "metadata": {},
   "source": [
    "To make reading the FIPS easier, I assigned the county names to each FIPS code and then appended the results onto the dataframe."
   ]
  },
  {
   "cell_type": "code",
   "execution_count": 5,
   "metadata": {},
   "outputs": [
    {
     "data": {
      "text/html": [
       "<div>\n",
       "<style scoped>\n",
       "    .dataframe tbody tr th:only-of-type {\n",
       "        vertical-align: middle;\n",
       "    }\n",
       "\n",
       "    .dataframe tbody tr th {\n",
       "        vertical-align: top;\n",
       "    }\n",
       "\n",
       "    .dataframe thead th {\n",
       "        text-align: right;\n",
       "    }\n",
       "</style>\n",
       "<table border=\"1\" class=\"dataframe\">\n",
       "  <thead>\n",
       "    <tr style=\"text-align: right;\">\n",
       "      <th></th>\n",
       "      <th>Unnamed: 0</th>\n",
       "      <th>parcelid</th>\n",
       "      <th>fips</th>\n",
       "      <th>latitude</th>\n",
       "      <th>longitude</th>\n",
       "      <th>lotsizesquarefeet</th>\n",
       "      <th>calculatedfinishedsquarefeet</th>\n",
       "      <th>bedroomcnt</th>\n",
       "      <th>bathroomcnt</th>\n",
       "      <th>taxamount</th>\n",
       "      <th>taxvaluedollarcnt</th>\n",
       "      <th>county</th>\n",
       "    </tr>\n",
       "  </thead>\n",
       "  <tbody>\n",
       "    <tr>\n",
       "      <th>0</th>\n",
       "      <td>0</td>\n",
       "      <td>11721753</td>\n",
       "      <td>6037.0</td>\n",
       "      <td>34033180.0</td>\n",
       "      <td>-118355396.0</td>\n",
       "      <td>5672.0</td>\n",
       "      <td>1316.0</td>\n",
       "      <td>3.0</td>\n",
       "      <td>2.0</td>\n",
       "      <td>2627.48</td>\n",
       "      <td>205123.0</td>\n",
       "      <td>los_angeles_county</td>\n",
       "    </tr>\n",
       "  </tbody>\n",
       "</table>\n",
       "</div>"
      ],
      "text/plain": [
       "   Unnamed: 0  parcelid    fips    latitude    longitude  lotsizesquarefeet  \\\n",
       "0           0  11721753  6037.0  34033180.0 -118355396.0             5672.0   \n",
       "\n",
       "   calculatedfinishedsquarefeet  bedroomcnt  bathroomcnt  taxamount  \\\n",
       "0                        1316.0         3.0          2.0    2627.48   \n",
       "\n",
       "   taxvaluedollarcnt              county  \n",
       "0           205123.0  los_angeles_county  "
      ]
     },
     "execution_count": 5,
     "metadata": {},
     "output_type": "execute_result"
    }
   ],
   "source": [
    "county_name = []\n",
    "for row in df['fips']:\n",
    "        if row == 6037.0:    \n",
    "            county_name.append('los_angeles_county')\n",
    "        elif row == 6059.0:   \n",
    "            county_name.append('orange_county')\n",
    "        elif row == 6111.0:  \n",
    "            county_name.append('ventura_county')\n",
    "        else:           \n",
    "            county_name.append('no_county')\n",
    "df['county']= county_name\n",
    "df.head(1)"
   ]
  },
  {
   "cell_type": "markdown",
   "metadata": {},
   "source": [
    "My first iteration of the dataframe had lots of nans/nulls. I handled them originally by filling them with the mode (most commonly occuring value) for each column."
   ]
  },
  {
   "cell_type": "code",
   "execution_count": 6,
   "metadata": {},
   "outputs": [],
   "source": [
    "df['bedroomcnt'].fillna(df['bedroomcnt'].mode()[0], inplace=True)\n",
    "df['bathroomcnt'].fillna(df['bathroomcnt'].mode()[0], inplace=True)\n",
    "df['calculatedfinishedsquarefeet'].fillna(df['calculatedfinishedsquarefeet'].mode()[0], inplace=True)\n",
    "df['fips'].fillna(df['fips'].mode()[0], inplace=True)\n",
    "df['taxamount'].fillna(df['taxamount'].mode()[0], inplace=True)\n",
    "df['taxvaluedollarcnt'].fillna(df['taxvaluedollarcnt'].mode()[0], inplace=True)"
   ]
  },
  {
   "cell_type": "code",
   "execution_count": 7,
   "metadata": {},
   "outputs": [
    {
     "data": {
      "text/plain": [
       "Text(0, 0.5, 'Count of Tax Value')"
      ]
     },
     "execution_count": 7,
     "metadata": {},
     "output_type": "execute_result"
    },
    {
     "data": {
      "image/png": "[encoded data removed]",
      "text/plain": [
       "<Figure size 2160x1440 with 7 Axes>"
      ]
     },
     "metadata": {
      "needs_background": "light"
     },
     "output_type": "display_data"
    }
   ],
   "source": [
    "plt.figure(figsize=(30, 20))\n",
    "\n",
    "plt.suptitle(\"Plotting the distributions of the numerical columns\")\n",
    "# row, columns, index\n",
    "plt.subplot(3, 3, 1)\n",
    "plt.hist(df.parcelid, align='left', edgecolor='darkblue', alpha=0.5, color='palevioletred')\n",
    "plt.title('Parcel ID')\n",
    "plt.xlabel(\"Parcel ID\")\n",
    "plt.ylabel(\"Count of Parcel ID\")\n",
    "\n",
    "\n",
    "plt.subplot(3, 3, 2)\n",
    "plt.hist(df.bedroomcnt, align='left', edgecolor='darkblue', alpha=0.5, color='palevioletred')\n",
    "plt.title('Bedroom Count')\n",
    "plt.xlabel(\"Number of Bedrooms\")\n",
    "plt.ylabel(\"Count of Number of Bedrooms\")\n",
    "\n",
    "\n",
    "plt.subplot(3, 3, 3)\n",
    "plt.hist(df.bathroomcnt, align='left', edgecolor='darkblue', alpha=0.5, color='palevioletred')\n",
    "plt.title('Bathroom Count')\n",
    "plt.xlabel(\"Number of Bathrooms\")\n",
    "plt.ylabel(\"Count of number of bathrooms\")\n",
    "\n",
    "\n",
    "plt.subplot(3, 3, 4)\n",
    "plt.hist(df.calculatedfinishedsquarefeet, align='left', edgecolor='darkblue', alpha=0.5, color='palevioletred')\n",
    "plt.title('Square Footage')\n",
    "plt.xlabel(\"Square Footage\")\n",
    "plt.ylabel(\"Count of Square Footage\")\n",
    "\n",
    "\n",
    "plt.subplot(3, 3, 5)\n",
    "plt.hist(df.fips, align='left', edgecolor='darkblue', alpha=0.5, color='palevioletred')\n",
    "plt.title('Federal Information Processing System (FIPS)')\n",
    "plt.xlabel(\"FIPS\")\n",
    "plt.ylabel(\"Count of Clients in each Tenure\")\n",
    "\n",
    "\n",
    "plt.subplot(3, 3, 6)\n",
    "plt.hist(df.taxamount, align='left', edgecolor='darkblue', alpha=0.5, color='palevioletred')\n",
    "plt.title('Tax Amount')\n",
    "plt.xlabel(\"Tax Amount\")\n",
    "plt.ylabel(\"Count of Tax Amount\")\n",
    "\n",
    "plt.subplot(3,3,7)\n",
    "plt.hist(df.taxvaluedollarcnt, align='left', edgecolor='darkblue', alpha=0.5, color='palevioletred')\n",
    "plt.title('Tax Value')\n",
    "plt.xlabel(\"Tax Value\")\n",
    "plt.ylabel(\"Count of Tax Value\")"
   ]
  },
  {
   "cell_type": "markdown",
   "metadata": {},
   "source": [
    "In the prepare.py created, the following functions are defined:\n",
    "<ul>\n",
    "    <li> clean_zillow- Takes in the full dataframe from acquire.py, handles nans, renames columns and appends necessary data.\n",
    "    <li> prep_zillow_data- Takes in the clean zillow data and splits into train, validate, test.\n",
    "    <li> prep_split_zillow_data- This function takes in the clean data, drops the tax amount for modeling purposes and then splits the data into X/Y Train, Validate/Test.\n",
    "    <li> remove_outliers_zillow- This function takes in the cleaned zillow data and handles outliers as needed."
   ]
  },
  {
   "cell_type": "markdown",
   "metadata": {},
   "source": [
    "# Explore"
   ]
  },
  {
   "cell_type": "code",
   "execution_count": 8,
   "metadata": {},
   "outputs": [
    {
     "name": "stdout",
     "output_type": "stream",
     "text": [
      "<class 'pandas.core.frame.DataFrame'>\n",
      "RangeIndex: 28073 entries, 0 to 28072\n",
      "Data columns (total 8 columns):\n",
      " #   Column          Non-Null Count  Dtype  \n",
      "---  ------          --------------  -----  \n",
      " 0   fips            28073 non-null  float64\n",
      " 1   lot_size        28073 non-null  float64\n",
      " 2   square_feet     28073 non-null  float64\n",
      " 3   bedroom_count   28073 non-null  float64\n",
      " 4   bathroom_count  28073 non-null  float64\n",
      " 5   tax_amount      28073 non-null  float64\n",
      " 6   tax_value       28073 non-null  float64\n",
      " 7   county          28073 non-null  object \n",
      "dtypes: float64(7), object(1)\n",
      "memory usage: 1.7+ MB\n"
     ]
    }
   ],
   "source": [
    "df=prepare.clean_zillow()\n",
    "df.info()"
   ]
  },
  {
   "cell_type": "code",
   "execution_count": 9,
   "metadata": {},
   "outputs": [
    {
     "data": {
      "text/html": [
       "<div>\n",
       "<style scoped>\n",
       "    .dataframe tbody tr th:only-of-type {\n",
       "        vertical-align: middle;\n",
       "    }\n",
       "\n",
       "    .dataframe tbody tr th {\n",
       "        vertical-align: top;\n",
       "    }\n",
       "\n",
       "    .dataframe thead th {\n",
       "        text-align: right;\n",
       "    }\n",
       "</style>\n",
       "<table border=\"1\" class=\"dataframe\">\n",
       "  <thead>\n",
       "    <tr style=\"text-align: right;\">\n",
       "      <th></th>\n",
       "      <th>fips</th>\n",
       "      <th>lot_size</th>\n",
       "      <th>square_feet</th>\n",
       "      <th>bedroom_count</th>\n",
       "      <th>bathroom_count</th>\n",
       "      <th>tax_amount</th>\n",
       "      <th>tax_value</th>\n",
       "      <th>county</th>\n",
       "    </tr>\n",
       "  </thead>\n",
       "  <tbody>\n",
       "    <tr>\n",
       "      <th>16223</th>\n",
       "      <td>6037.0</td>\n",
       "      <td>5270.0</td>\n",
       "      <td>1192.0</td>\n",
       "      <td>3.0</td>\n",
       "      <td>2.0</td>\n",
       "      <td>1055.89</td>\n",
       "      <td>54624.0</td>\n",
       "      <td>los_angeles_county</td>\n",
       "    </tr>\n",
       "    <tr>\n",
       "      <th>428</th>\n",
       "      <td>6111.0</td>\n",
       "      <td>5548.0</td>\n",
       "      <td>2115.0</td>\n",
       "      <td>3.0</td>\n",
       "      <td>3.0</td>\n",
       "      <td>7213.02</td>\n",
       "      <td>638000.0</td>\n",
       "      <td>ventura_county</td>\n",
       "    </tr>\n",
       "    <tr>\n",
       "      <th>453</th>\n",
       "      <td>6037.0</td>\n",
       "      <td>8559.0</td>\n",
       "      <td>1790.0</td>\n",
       "      <td>3.0</td>\n",
       "      <td>2.0</td>\n",
       "      <td>1536.38</td>\n",
       "      <td>89105.0</td>\n",
       "      <td>los_angeles_county</td>\n",
       "    </tr>\n",
       "    <tr>\n",
       "      <th>27470</th>\n",
       "      <td>6037.0</td>\n",
       "      <td>7009.0</td>\n",
       "      <td>1697.0</td>\n",
       "      <td>3.0</td>\n",
       "      <td>2.0</td>\n",
       "      <td>4506.43</td>\n",
       "      <td>219000.0</td>\n",
       "      <td>los_angeles_county</td>\n",
       "    </tr>\n",
       "    <tr>\n",
       "      <th>13093</th>\n",
       "      <td>6111.0</td>\n",
       "      <td>4446.0</td>\n",
       "      <td>2041.0</td>\n",
       "      <td>3.0</td>\n",
       "      <td>2.5</td>\n",
       "      <td>9707.20</td>\n",
       "      <td>779236.0</td>\n",
       "      <td>ventura_county</td>\n",
       "    </tr>\n",
       "  </tbody>\n",
       "</table>\n",
       "</div>"
      ],
      "text/plain": [
       "         fips  lot_size  square_feet  bedroom_count  bathroom_count  \\\n",
       "16223  6037.0    5270.0       1192.0            3.0             2.0   \n",
       "428    6111.0    5548.0       2115.0            3.0             3.0   \n",
       "453    6037.0    8559.0       1790.0            3.0             2.0   \n",
       "27470  6037.0    7009.0       1697.0            3.0             2.0   \n",
       "13093  6111.0    4446.0       2041.0            3.0             2.5   \n",
       "\n",
       "       tax_amount  tax_value              county  \n",
       "16223     1055.89    54624.0  los_angeles_county  \n",
       "428       7213.02   638000.0      ventura_county  \n",
       "453       1536.38    89105.0  los_angeles_county  \n",
       "27470     4506.43   219000.0  los_angeles_county  \n",
       "13093     9707.20   779236.0      ventura_county  "
      ]
     },
     "execution_count": 9,
     "metadata": {},
     "output_type": "execute_result"
    }
   ],
   "source": [
    "np.random.seed(1019)\n",
    "train, validate, test = prepare.prep_zillow_data()\n",
    "train.shape, validate.shape, test.shape\n",
    "train.head()"
   ]
  },
  {
   "cell_type": "markdown",
   "metadata": {},
   "source": [
    "## Hypothesis Testing:\n",
    "### 1st Hypothesis Test:\n",
    "$H_0$: Homes have the same mean tax value in each county.\n",
    "\n",
    "$H_a$: Homes in Los Angeles have a higher mean tax value than in Ventura or Orange Counties.\n",
    "\n",
    "alpha ($\\alpha$): 1 - confidence level (95% confidence level -> $\\alpha = .05$)"
   ]
  },
  {
   "cell_type": "code",
   "execution_count": 10,
   "metadata": {},
   "outputs": [],
   "source": [
    "n = train.shape[0]     # number of observations\n",
    "degf = n - 2        # degrees of freedom: the # of values in the final calculation of a statistic that are free to vary.\n",
    "conf_interval = .95 # desired confidence interval\n",
    "α = 1 - conf_interval\n",
    "null_hypothesis = \"homes have the same mean tax value in each county.\""
   ]
  },
  {
   "cell_type": "code",
   "execution_count": 11,
   "metadata": {},
   "outputs": [],
   "source": [
    "x1 = train[train.county == 'los_angeles_county'].tax_value\n",
    "x2 = train[train.county != 'los_angeles_county'].tax_value"
   ]
  },
  {
   "cell_type": "code",
   "execution_count": 12,
   "metadata": {},
   "outputs": [],
   "source": [
    "t, p= stats.ttest_ind(x1, x2)"
   ]
  },
  {
   "cell_type": "code",
   "execution_count": 13,
   "metadata": {},
   "outputs": [
    {
     "name": "stdout",
     "output_type": "stream",
     "text": [
      "We reject the null hypothesis that homes have the same mean tax value in each county.\n"
     ]
    }
   ],
   "source": [
    "if p > α:\n",
    "    print(\"We fail to reject the null hypothesis. The null hypothesis is that\", null_hypothesis)\n",
    "else:\n",
    "    print(\"We reject the null hypothesis that\", null_hypothesis)"
   ]
  },
  {
   "cell_type": "markdown",
   "metadata": {},
   "source": [
    "### 2nd Hypothesis Test:\n",
    "𝐻0 : Number of bathrooms have no correlation with tax value.\n",
    "\n",
    "𝐻𝑎 : Homes with more bathrooms are correlated with higher tax values.\n",
    "\n",
    "alpha ( 𝛼 ): 1 - confidence level (95% confidence level ->  𝛼=.05 )"
   ]
  },
  {
   "cell_type": "code",
   "execution_count": 14,
   "metadata": {},
   "outputs": [],
   "source": [
    "n = train.shape[0]     # number of observations\n",
    "degf = n - 2        # degrees of freedom: the # of values in the final calculation of a statistic that are free to vary.\n",
    "conf_interval = .95 # desired confidence interval\n",
    "α = 1 - conf_interval\n",
    "null_hypothesis='number of bathrooms have no correlation with tax value.'"
   ]
  },
  {
   "cell_type": "code",
   "execution_count": 15,
   "metadata": {},
   "outputs": [],
   "source": [
    "x = train.bathroom_count\n",
    "y = train.tax_value"
   ]
  },
  {
   "cell_type": "code",
   "execution_count": 16,
   "metadata": {},
   "outputs": [
    {
     "data": {
      "text/plain": [
       "(0.514021012939429, 0.0)"
      ]
     },
     "execution_count": 16,
     "metadata": {},
     "output_type": "execute_result"
    }
   ],
   "source": [
    "corr, p = stats.pearsonr(x, y)\n",
    "corr, p"
   ]
  },
  {
   "cell_type": "code",
   "execution_count": 17,
   "metadata": {},
   "outputs": [
    {
     "name": "stdout",
     "output_type": "stream",
     "text": [
      "We reject the null hypothesis that number of bathrooms have no correlation with tax value.\n"
     ]
    }
   ],
   "source": [
    "if p >  α:\n",
    "    print(\"We fail to reject the null hypothesis. The null hypothesis is that\", null_hypothesis)\n",
    "else:\n",
    "    print(\"We reject the null hypothesis that\", null_hypothesis)"
   ]
  },
  {
   "cell_type": "markdown",
   "metadata": {},
   "source": [
    "### 3rd Hypothesis Test:\n",
    "𝐻0 : Number of bedrooms have no correlation with tax value.\n",
    "\n",
    "𝐻𝑎 : Homes with more bedrooms are correlated with higher tax values.\n",
    "\n",
    "alpha ( 𝛼 ): 1 - confidence level (95% confidence level ->  𝛼=.05 )"
   ]
  },
  {
   "cell_type": "code",
   "execution_count": 18,
   "metadata": {},
   "outputs": [],
   "source": [
    "n = df.shape[0]     # number of observations\n",
    "degf = n - 2        # degrees of freedom: the # of values in the final calculation of a statistic that are free to vary.\n",
    "conf_interval = .95 # desired confidence interval\n",
    "α = 1 - conf_interval\n",
    "null_hypothesis='number of bedrooms have no correlation with tax value.'"
   ]
  },
  {
   "cell_type": "code",
   "execution_count": 19,
   "metadata": {},
   "outputs": [],
   "source": [
    "x2 = df.bedroom_count\n",
    "y2 = df.tax_value"
   ]
  },
  {
   "cell_type": "code",
   "execution_count": 20,
   "metadata": {},
   "outputs": [
    {
     "data": {
      "text/plain": [
       "(0.2807020979909201, 0.0)"
      ]
     },
     "execution_count": 20,
     "metadata": {},
     "output_type": "execute_result"
    }
   ],
   "source": [
    "corr, p = stats.pearsonr(x2, y2)\n",
    "corr, p"
   ]
  },
  {
   "cell_type": "code",
   "execution_count": 21,
   "metadata": {},
   "outputs": [
    {
     "name": "stdout",
     "output_type": "stream",
     "text": [
      "We reject the null hypothesis that number of bedrooms have no correlation with tax value.\n"
     ]
    }
   ],
   "source": [
    "if p >  α:\n",
    "    print(\"We fail to reject the null hypothesis. The null hypothesis is that\", null_hypothesis)\n",
    "else:\n",
    "    print(\"We reject the null hypothesis that\", null_hypothesis)"
   ]
  },
  {
   "cell_type": "markdown",
   "metadata": {},
   "source": [
    "### 4th Hypothesis Test:\n",
    "𝐻0 : Square footage has no correlation with tax value.\n",
    "\n",
    "𝐻𝑎 : Homes with a higher square footage are correlated with higher tax values.\n",
    "\n",
    "alpha ( 𝛼 ): 1 - confidence level (95% confidence level ->  𝛼=.05 )"
   ]
  },
  {
   "cell_type": "code",
   "execution_count": 22,
   "metadata": {},
   "outputs": [],
   "source": [
    "n = df.shape[0]     # number of observations\n",
    "degf = n - 2        # degrees of freedom: the # of values in the final calculation of a statistic that are free to vary.\n",
    "conf_interval = .95 # desired confidence interval\n",
    "α = 1 - conf_interval\n",
    "null_hypothesis=\"square footage has no correlation with tax value.\""
   ]
  },
  {
   "cell_type": "code",
   "execution_count": 23,
   "metadata": {},
   "outputs": [],
   "source": [
    "x3 = df.square_feet\n",
    "y3 = df.tax_value"
   ]
  },
  {
   "cell_type": "code",
   "execution_count": 24,
   "metadata": {},
   "outputs": [
    {
     "data": {
      "text/plain": [
       "(0.611763274652983, 0.0)"
      ]
     },
     "execution_count": 24,
     "metadata": {},
     "output_type": "execute_result"
    }
   ],
   "source": [
    "corr, p = stats.pearsonr(x3, y3)\n",
    "corr, p"
   ]
  },
  {
   "cell_type": "code",
   "execution_count": 25,
   "metadata": {},
   "outputs": [
    {
     "name": "stdout",
     "output_type": "stream",
     "text": [
      "We fail to reject the null hypothesis. The null hypothesis is that square footage has no correlation with tax value.\n"
     ]
    }
   ],
   "source": [
    "if p >  α:\n",
    "    print(\"We fail to reject the null hypothesis. The null hypothesis is that\", null_hypothesis)\n",
    "elif t < 0 :\n",
    "    print(\"We fail to reject the null hypothesis. The null hypothesis is that\", null_hypothesis)\n",
    "else:\n",
    "    print(\"We reject the null hypothesis that\", null_hypothesis)"
   ]
  },
  {
   "cell_type": "code",
   "execution_count": 26,
   "metadata": {},
   "outputs": [
    {
     "data": {
      "text/plain": [
       "<Figure size 720x576 with 0 Axes>"
      ]
     },
     "metadata": {},
     "output_type": "display_data"
    },
    {
     "data": {
      "image/png": "[encoded data removed]",
      "text/plain": [
       "<Figure size 720x720 with 3 Axes>"
      ]
     },
     "metadata": {
      "needs_background": "light"
     },
     "output_type": "display_data"
    }
   ],
   "source": [
    "plt.figure(figsize=(10, 8))\n",
    "\n",
    "#evaluating tax value assessment to number of bedrooms\n",
    "sns.jointplot( \"bathroom_count\", \"tax_value\",data=train, kind='reg', height=10, color= 'ForestGreen');\n",
    "plt.xlabel('Number of Bedrooms')\n",
    "plt.ylabel('Estimated Property Value by Tax Assessment (in hundred thousands)')\n",
    "plt.title ('Number of Bedrooms and Estimated Property Value by Tax Assessment')\n",
    "plt.show()"
   ]
  },
  {
   "cell_type": "code",
   "execution_count": 27,
   "metadata": {},
   "outputs": [
    {
     "data": {
      "text/plain": [
       "Text(0, 0.5, 'Estimated Property Value by Tax Assessment \\n (in hundred thousands)')"
      ]
     },
     "execution_count": 27,
     "metadata": {},
     "output_type": "execute_result"
    },
    {
     "data": {
      "image/png": "[encoded data removed]",
      "text/plain": [
       "<Figure size 2160x1440 with 1 Axes>"
      ]
     },
     "metadata": {
      "needs_background": "light"
     },
     "output_type": "display_data"
    }
   ],
   "source": [
    "plt.figure(figsize=(30, 20))\n",
    "#evaluating tax value assessment to number of bedrooms\n",
    "sns.regplot(data= train, x='bedroom_count', y= 'tax_value')\n",
    "plt.title(\"Correlation between Number of Bedrooms and Estimated Tax Property Value\")\n",
    "plt.xlabel('Number of Bedrooms')\n",
    "plt.ylabel('Estimated Property Value by Tax Assessment \\n (in hundred thousands)')"
   ]
  },
  {
   "cell_type": "code",
   "execution_count": 28,
   "metadata": {},
   "outputs": [],
   "source": [
    "#sns.pairplot(train)"
   ]
  },
  {
   "cell_type": "code",
   "execution_count": 29,
   "metadata": {},
   "outputs": [
    {
     "data": {
      "image/png": "[encoded data removed]",
      "text/plain": [
       "<Figure size 432x288 with 2 Axes>"
      ]
     },
     "metadata": {
      "needs_background": "light"
     },
     "output_type": "display_data"
    }
   ],
   "source": [
    "sns.heatmap(train.corr(),vmin=-1, vmax=1, annot=True)\n",
    "plt.title('Correlation Heatmap', fontdict={'fontsize':12}, pad=12);"
   ]
  },
  {
   "cell_type": "markdown",
   "metadata": {},
   "source": [
    "# Feature Engineering"
   ]
  },
  {
   "cell_type": "code",
   "execution_count": 30,
   "metadata": {},
   "outputs": [],
   "source": [
    "from sklearn.linear_model import LinearRegression\n",
    "from sklearn.feature_selection import RFE\n",
    "from sklearn.linear_model import LinearRegression, LassoLars, TweedieRegressor\n",
    "import sklearn.preprocessing\n",
    "from sklearn.feature_selection import SelectKBest, f_regression\n",
    "from sklearn.metrics import explained_variance_score"
   ]
  },
  {
   "cell_type": "code",
   "execution_count": 31,
   "metadata": {},
   "outputs": [
    {
     "data": {
      "text/plain": [
       "((15720, 5), (15720, 1))"
      ]
     },
     "execution_count": 31,
     "metadata": {},
     "output_type": "execute_result"
    }
   ],
   "source": [
    "X_train, X_validate, X_test, y_train, y_validate, y_test = prepare.prep_split_zillow_data()\n",
    "X_train.shape, y_train.shape"
   ]
  },
  {
   "cell_type": "code",
   "execution_count": 32,
   "metadata": {},
   "outputs": [],
   "source": [
    "scaler, X_train_scaled, X_validate_scaled, X_test_scaled= prepare.Robust_Scaler(X_train, X_validate, X_test)"
   ]
  },
  {
   "cell_type": "markdown",
   "metadata": {},
   "source": [
    "### Select K Best"
   ]
  },
  {
   "cell_type": "code",
   "execution_count": 33,
   "metadata": {},
   "outputs": [],
   "source": [
    "def select_kbest(x, y, k):\n",
    "    \n",
    "    # parameters: f_regression stats test, give me k features\n",
    "    f_selector = SelectKBest(f_regression, k=k)\n",
    "    \n",
    "    # find the top k X's correlated with y\n",
    "    f_selector.fit(X_train_scaled, y_train)\n",
    "    \n",
    "    # boolean mask of whether the column was selected or not. \n",
    "    feature_mask = f_selector.get_support()\n",
    "    \n",
    "    f_feature = X_train_scaled.iloc[:,feature_mask].columns.tolist()\n",
    "    \n",
    "    return print(f'The two best predictors, according to k best are: {f_feature}.')"
   ]
  },
  {
   "cell_type": "code",
   "execution_count": 34,
   "metadata": {},
   "outputs": [
    {
     "name": "stdout",
     "output_type": "stream",
     "text": [
      "The two best predictors, according to k best are: ['square_feet', 'bedroom_count', 'bathroom_count'].\n"
     ]
    }
   ],
   "source": [
    "select_kbest(X_train_scaled, 'tax_value', 3)"
   ]
  },
  {
   "cell_type": "markdown",
   "metadata": {},
   "source": [
    "### Recursive Feature Elimination"
   ]
  },
  {
   "cell_type": "code",
   "execution_count": 35,
   "metadata": {},
   "outputs": [],
   "source": [
    "# initialize the ML algorithm\n",
    "lm = LinearRegression()\n",
    "\n",
    "# create the rfe object, indicating the ML object (lm) and the number of features I want to end up with. \n",
    "rfe = RFE(lm, 3)\n",
    "\n",
    "# fit the data using RFE\n",
    "rfe.fit(X_train_scaled,y_train)  \n",
    "\n",
    "# get the mask of the columns selected\n",
    "feature_mask = rfe.support_\n",
    "\n",
    "# get list of the column names. \n",
    "rfe_feature = X_train_scaled.iloc[:,feature_mask].columns.tolist()"
   ]
  },
  {
   "cell_type": "code",
   "execution_count": 36,
   "metadata": {},
   "outputs": [
    {
     "data": {
      "text/plain": [
       "['square_feet', 'bedroom_count', 'bathroom_count']"
      ]
     },
     "execution_count": 36,
     "metadata": {},
     "output_type": "execute_result"
    }
   ],
   "source": [
    "rfe_feature"
   ]
  },
  {
   "cell_type": "markdown",
   "metadata": {},
   "source": [
    "# Model"
   ]
  },
  {
   "cell_type": "code",
   "execution_count": 37,
   "metadata": {},
   "outputs": [
    {
     "data": {
      "text/plain": [
       "((15720, 3), (6738, 3), (5615, 3), (15720, 1), (6738, 1), (5615, 1))"
      ]
     },
     "execution_count": 37,
     "metadata": {},
     "output_type": "execute_result"
    }
   ],
   "source": [
    "X_train2, X_validate2, X_test2, y_train2, y_validate2, y_test2= prepare.model_zillow()\n",
    "X_train2.shape, X_validate2.shape, X_test2.shape, y_train2.shape, y_validate2.shape, y_test2.shape"
   ]
  },
  {
   "cell_type": "code",
   "execution_count": 64,
   "metadata": {},
   "outputs": [
    {
     "data": {
      "text/html": [
       "<div>\n",
       "<style scoped>\n",
       "    .dataframe tbody tr th:only-of-type {\n",
       "        vertical-align: middle;\n",
       "    }\n",
       "\n",
       "    .dataframe tbody tr th {\n",
       "        vertical-align: top;\n",
       "    }\n",
       "\n",
       "    .dataframe thead th {\n",
       "        text-align: right;\n",
       "    }\n",
       "</style>\n",
       "<table border=\"1\" class=\"dataframe\">\n",
       "  <thead>\n",
       "    <tr style=\"text-align: right;\">\n",
       "      <th></th>\n",
       "      <th>square_feet</th>\n",
       "      <th>bedroom_count</th>\n",
       "      <th>bathroom_count</th>\n",
       "    </tr>\n",
       "  </thead>\n",
       "  <tbody>\n",
       "    <tr>\n",
       "      <th>16223</th>\n",
       "      <td>1192.0</td>\n",
       "      <td>3.0</td>\n",
       "      <td>2.0</td>\n",
       "    </tr>\n",
       "    <tr>\n",
       "      <th>428</th>\n",
       "      <td>2115.0</td>\n",
       "      <td>3.0</td>\n",
       "      <td>3.0</td>\n",
       "    </tr>\n",
       "    <tr>\n",
       "      <th>453</th>\n",
       "      <td>1790.0</td>\n",
       "      <td>3.0</td>\n",
       "      <td>2.0</td>\n",
       "    </tr>\n",
       "    <tr>\n",
       "      <th>27470</th>\n",
       "      <td>1697.0</td>\n",
       "      <td>3.0</td>\n",
       "      <td>2.0</td>\n",
       "    </tr>\n",
       "    <tr>\n",
       "      <th>13093</th>\n",
       "      <td>2041.0</td>\n",
       "      <td>3.0</td>\n",
       "      <td>2.5</td>\n",
       "    </tr>\n",
       "  </tbody>\n",
       "</table>\n",
       "</div>"
      ],
      "text/plain": [
       "       square_feet  bedroom_count  bathroom_count\n",
       "16223       1192.0            3.0             2.0\n",
       "428         2115.0            3.0             3.0\n",
       "453         1790.0            3.0             2.0\n",
       "27470       1697.0            3.0             2.0\n",
       "13093       2041.0            3.0             2.5"
      ]
     },
     "execution_count": 64,
     "metadata": {},
     "output_type": "execute_result"
    }
   ],
   "source": [
    "X_train2.head()"
   ]
  },
  {
   "cell_type": "code",
   "execution_count": 65,
   "metadata": {},
   "outputs": [
    {
     "data": {
      "text/html": [
       "<div>\n",
       "<style scoped>\n",
       "    .dataframe tbody tr th:only-of-type {\n",
       "        vertical-align: middle;\n",
       "    }\n",
       "\n",
       "    .dataframe tbody tr th {\n",
       "        vertical-align: top;\n",
       "    }\n",
       "\n",
       "    .dataframe thead th {\n",
       "        text-align: right;\n",
       "    }\n",
       "</style>\n",
       "<table border=\"1\" class=\"dataframe\">\n",
       "  <thead>\n",
       "    <tr style=\"text-align: right;\">\n",
       "      <th></th>\n",
       "      <th>tax_value</th>\n",
       "    </tr>\n",
       "  </thead>\n",
       "  <tbody>\n",
       "    <tr>\n",
       "      <th>16223</th>\n",
       "      <td>54624.0</td>\n",
       "    </tr>\n",
       "    <tr>\n",
       "      <th>428</th>\n",
       "      <td>638000.0</td>\n",
       "    </tr>\n",
       "    <tr>\n",
       "      <th>453</th>\n",
       "      <td>89105.0</td>\n",
       "    </tr>\n",
       "    <tr>\n",
       "      <th>27470</th>\n",
       "      <td>219000.0</td>\n",
       "    </tr>\n",
       "    <tr>\n",
       "      <th>13093</th>\n",
       "      <td>779236.0</td>\n",
       "    </tr>\n",
       "  </tbody>\n",
       "</table>\n",
       "</div>"
      ],
      "text/plain": [
       "       tax_value\n",
       "16223    54624.0\n",
       "428     638000.0\n",
       "453      89105.0\n",
       "27470   219000.0\n",
       "13093   779236.0"
      ]
     },
     "execution_count": 65,
     "metadata": {},
     "output_type": "execute_result"
    }
   ],
   "source": [
    "y_train2.head()"
   ]
  },
  {
   "cell_type": "code",
   "execution_count": 40,
   "metadata": {},
   "outputs": [
    {
     "data": {
      "text/plain": [
       "count       15720.000000\n",
       "mean       531681.202990\n",
       "std        695379.524373\n",
       "min         10504.000000\n",
       "25%        198997.000000\n",
       "50%        382798.500000\n",
       "75%        632048.250000\n",
       "max      23858374.000000\n",
       "Name: tax_value, dtype: object"
      ]
     },
     "execution_count": 40,
     "metadata": {},
     "output_type": "execute_result"
    }
   ],
   "source": [
    "train.tax_value.describe().apply(lambda x: format(x, 'f'))"
   ]
  },
  {
   "cell_type": "markdown",
   "metadata": {},
   "source": [
    "#### Baseline"
   ]
  },
  {
   "cell_type": "code",
   "execution_count": 66,
   "metadata": {},
   "outputs": [
    {
     "data": {
      "text/plain": [
       "(pandas.core.frame.DataFrame, pandas.core.frame.DataFrame)"
      ]
     },
     "execution_count": 66,
     "metadata": {},
     "output_type": "execute_result"
    }
   ],
   "source": [
    "type(y_train2), type(y_validate2)"
   ]
  },
  {
   "cell_type": "code",
   "execution_count": 67,
   "metadata": {},
   "outputs": [
    {
     "name": "stdout",
     "output_type": "stream",
     "text": [
      "RMSE using Mean\n",
      "Train/In-Sample:  695357.41 \n",
      "Validate/Out-of-Sample:  764590.6\n",
      "RMSE using Median\n",
      "Train/In-Sample:  711117.42 \n",
      "Validate/Out-of-Sample:  780705.18\n"
     ]
    }
   ],
   "source": [
    "# 1. Predict tax_value_mean\n",
    "tax_pred_mean = y_train2.tax_value.mean()\n",
    "y_train2['tax_pred_mean'] = tax_pred_mean\n",
    "y_validate2['tax_pred_mean'] = tax_pred_mean\n",
    "\n",
    "# 2. compute tax_pred_median\n",
    "tax_pred_median = y_train2.tax_value.median()\n",
    "y_train2['tax_pred_median'] = tax_pred_median\n",
    "y_validate2['tax_pred_median'] = tax_pred_median\n",
    "\n",
    "# 3. RMSE of tax_pred_mean\n",
    "rmse_train = mean_squared_error(y_train2.tax_value, y_train2.tax_pred_mean) ** .5\n",
    "rmse_validate = mean_squared_error(y_validate2.tax_value, y_validate2.tax_pred_mean) ** (1/2)\n",
    "\n",
    "print(\"RMSE using Mean\\nTrain/In-Sample: \", round(rmse_train, 2), \n",
    "      \"\\nValidate/Out-of-Sample: \", round(rmse_validate, 2))\n",
    "\n",
    "# 4. RMSE of tax_pred_median\n",
    "rmse_train = mean_squared_error(y_train2.tax_value, y_train2.tax_pred_median) ** .5\n",
    "rmse_validate = mean_squared_error(y_validate2.tax_value, y_validate2.tax_pred_median) ** .5\n",
    "print(\"RMSE using Median\\nTrain/In-Sample: \", round(rmse_train, 2), \n",
    "      \"\\nValidate/Out-of-Sample: \", round(rmse_validate, 2))"
   ]
  },
  {
   "cell_type": "code",
   "execution_count": 68,
   "metadata": {},
   "outputs": [],
   "source": [
    "metric_df = pd.DataFrame(data=[{\n",
    "    'model': 'mean_baseline', \n",
    "    'RMSE_validate': rmse_validate,\n",
    "    'r^2_validate': explained_variance_score(y_validate2.tax_value, y_validate2.tax_pred_mean)}])"
   ]
  },
  {
   "cell_type": "code",
   "execution_count": 69,
   "metadata": {},
   "outputs": [
    {
     "data": {
      "text/html": [
       "<div>\n",
       "<style scoped>\n",
       "    .dataframe tbody tr th:only-of-type {\n",
       "        vertical-align: middle;\n",
       "    }\n",
       "\n",
       "    .dataframe tbody tr th {\n",
       "        vertical-align: top;\n",
       "    }\n",
       "\n",
       "    .dataframe thead th {\n",
       "        text-align: right;\n",
       "    }\n",
       "</style>\n",
       "<table border=\"1\" class=\"dataframe\">\n",
       "  <thead>\n",
       "    <tr style=\"text-align: right;\">\n",
       "      <th></th>\n",
       "      <th>model</th>\n",
       "      <th>RMSE_validate</th>\n",
       "      <th>r^2_validate</th>\n",
       "    </tr>\n",
       "  </thead>\n",
       "  <tbody>\n",
       "    <tr>\n",
       "      <th>0</th>\n",
       "      <td>mean_baseline</td>\n",
       "      <td>780705.183041</td>\n",
       "      <td>2.220446e-16</td>\n",
       "    </tr>\n",
       "  </tbody>\n",
       "</table>\n",
       "</div>"
      ],
      "text/plain": [
       "           model  RMSE_validate  r^2_validate\n",
       "0  mean_baseline  780705.183041  2.220446e-16"
      ]
     },
     "execution_count": 69,
     "metadata": {},
     "output_type": "execute_result"
    }
   ],
   "source": [
    "metric_df"
   ]
  },
  {
   "cell_type": "markdown",
   "metadata": {},
   "source": [
    "#### Linear Regression Model"
   ]
  },
  {
   "cell_type": "code",
   "execution_count": 71,
   "metadata": {},
   "outputs": [
    {
     "name": "stdout",
     "output_type": "stream",
     "text": [
      "RMSE for OLS using LinearRegression\n",
      "Training/In-Sample:  550049.853919652 \n",
      "Validation/Out-of-Sample:  583697.2826204126\n"
     ]
    }
   ],
   "source": [
    "# create the model object\n",
    "# \n",
    "# make the thing\n",
    "# \n",
    "lm = LinearRegression(normalize=True)\n",
    "\n",
    "# fit the model to our training data. We must specify the column in y_train, \n",
    "# since we have converted it to a dataframe from a series! \n",
    "# \n",
    "# fit the thing\n",
    "# \n",
    "lm.fit(X_train2, y_train2.tax_value)\n",
    "\n",
    "# predict train\n",
    "# \n",
    "# use the thing!\n",
    "# \n",
    "y_train2['tax_pred_lm'] = lm.predict(X_train2)\n",
    "\n",
    "# evaluate: rmse\n",
    "rmse_train = mean_squared_error(y_train2.tax_value, y_train2.tax_pred_lm) ** (1/2)\n",
    "\n",
    "# predict validate\n",
    "y_validate2['tax_pred_lm'] = lm.predict(X_validate2)\n",
    "\n",
    "# evaluate: rmse\n",
    "rmse_validate = mean_squared_error(y_validate2.tax_value, y_validate2.tax_pred_lm) ** (1/2)\n",
    "\n",
    "print(\"RMSE for OLS using LinearRegression\\nTraining/In-Sample: \", rmse_train, \n",
    "      \"\\nValidation/Out-of-Sample: \", rmse_validate)"
   ]
  },
  {
   "cell_type": "code",
   "execution_count": 72,
   "metadata": {},
   "outputs": [
    {
     "data": {
      "text/html": [
       "<div>\n",
       "<style scoped>\n",
       "    .dataframe tbody tr th:only-of-type {\n",
       "        vertical-align: middle;\n",
       "    }\n",
       "\n",
       "    .dataframe tbody tr th {\n",
       "        vertical-align: top;\n",
       "    }\n",
       "\n",
       "    .dataframe thead th {\n",
       "        text-align: right;\n",
       "    }\n",
       "</style>\n",
       "<table border=\"1\" class=\"dataframe\">\n",
       "  <thead>\n",
       "    <tr style=\"text-align: right;\">\n",
       "      <th></th>\n",
       "      <th>model</th>\n",
       "      <th>RMSE_validate</th>\n",
       "      <th>r^2_validate</th>\n",
       "    </tr>\n",
       "  </thead>\n",
       "  <tbody>\n",
       "    <tr>\n",
       "      <th>0</th>\n",
       "      <td>mean_baseline</td>\n",
       "      <td>780705.183041</td>\n",
       "      <td>2.220446e-16</td>\n",
       "    </tr>\n",
       "    <tr>\n",
       "      <th>1</th>\n",
       "      <td>OLS Regressor</td>\n",
       "      <td>583697.282620</td>\n",
       "      <td>4.173118e-01</td>\n",
       "    </tr>\n",
       "  </tbody>\n",
       "</table>\n",
       "</div>"
      ],
      "text/plain": [
       "           model  RMSE_validate  r^2_validate\n",
       "0  mean_baseline  780705.183041  2.220446e-16\n",
       "1  OLS Regressor  583697.282620  4.173118e-01"
      ]
     },
     "execution_count": 72,
     "metadata": {},
     "output_type": "execute_result"
    }
   ],
   "source": [
    "metric_df = metric_df.append({\n",
    "    'model': 'OLS Regressor', \n",
    "    'RMSE_validate': rmse_validate,\n",
    "    'r^2_validate': explained_variance_score(y_validate2.tax_value, y_validate2.tax_pred_lm)}, ignore_index=True)\n",
    "metric_df"
   ]
  },
  {
   "cell_type": "markdown",
   "metadata": {},
   "source": [
    "#### Lasso Lars Model"
   ]
  },
  {
   "cell_type": "code",
   "execution_count": 73,
   "metadata": {},
   "outputs": [
    {
     "name": "stdout",
     "output_type": "stream",
     "text": [
      "RMSE for Lasso + Lars\n",
      "Training/In-Sample:  550049.9406948847 \n",
      "Validation/Out-of-Sample:  583716.5827724609\n"
     ]
    }
   ],
   "source": [
    "# create the model object\n",
    "lars = LassoLars(alpha=1)\n",
    "\n",
    "# fit the model to our training data. We must specify the column in y_train, \n",
    "# since we have converted it to a dataframe from a series!\n",
    "lars.fit(X_train2, y_train2.tax_value)\n",
    "\n",
    "# predict train\n",
    "y_train2['tax_pred_lars'] = lars.predict(X_train2)\n",
    "\n",
    "# evaluate: rmse\n",
    "rmse_train = mean_squared_error(y_train2.tax_value, y_train2.tax_pred_lars) ** (1/2)\n",
    "\n",
    "# predict validate\n",
    "y_validate2['tax_pred_lars'] = lars.predict(X_validate2)\n",
    "\n",
    "# evaluate: rmse\n",
    "rmse_validate = mean_squared_error(y_validate2.tax_value, y_validate2.tax_pred_lars) ** (1/2)\n",
    "\n",
    "print(\"RMSE for Lasso + Lars\\nTraining/In-Sample: \", rmse_train, \n",
    "      \"\\nValidation/Out-of-Sample: \", rmse_validate)\n"
   ]
  },
  {
   "cell_type": "code",
   "execution_count": 74,
   "metadata": {},
   "outputs": [
    {
     "data": {
      "text/html": [
       "<div>\n",
       "<style scoped>\n",
       "    .dataframe tbody tr th:only-of-type {\n",
       "        vertical-align: middle;\n",
       "    }\n",
       "\n",
       "    .dataframe tbody tr th {\n",
       "        vertical-align: top;\n",
       "    }\n",
       "\n",
       "    .dataframe thead th {\n",
       "        text-align: right;\n",
       "    }\n",
       "</style>\n",
       "<table border=\"1\" class=\"dataframe\">\n",
       "  <thead>\n",
       "    <tr style=\"text-align: right;\">\n",
       "      <th></th>\n",
       "      <th>model</th>\n",
       "      <th>RMSE_validate</th>\n",
       "      <th>r^2_validate</th>\n",
       "    </tr>\n",
       "  </thead>\n",
       "  <tbody>\n",
       "    <tr>\n",
       "      <th>0</th>\n",
       "      <td>mean_baseline</td>\n",
       "      <td>780705.183041</td>\n",
       "      <td>2.220446e-16</td>\n",
       "    </tr>\n",
       "    <tr>\n",
       "      <th>1</th>\n",
       "      <td>OLS Regressor</td>\n",
       "      <td>583697.282620</td>\n",
       "      <td>4.173118e-01</td>\n",
       "    </tr>\n",
       "    <tr>\n",
       "      <th>2</th>\n",
       "      <td>Lasso Lars</td>\n",
       "      <td>583716.582772</td>\n",
       "      <td>4.172732e-01</td>\n",
       "    </tr>\n",
       "  </tbody>\n",
       "</table>\n",
       "</div>"
      ],
      "text/plain": [
       "           model  RMSE_validate  r^2_validate\n",
       "0  mean_baseline  780705.183041  2.220446e-16\n",
       "1  OLS Regressor  583697.282620  4.173118e-01\n",
       "2     Lasso Lars  583716.582772  4.172732e-01"
      ]
     },
     "execution_count": 74,
     "metadata": {},
     "output_type": "execute_result"
    }
   ],
   "source": [
    "metric_df = metric_df.append({\n",
    "    'model': 'Lasso Lars', \n",
    "    'RMSE_validate': rmse_validate,\n",
    "    'r^2_validate': explained_variance_score(y_validate2.tax_value, y_validate2.tax_pred_lars)}, ignore_index=True)\n",
    "metric_df"
   ]
  },
  {
   "cell_type": "markdown",
   "metadata": {},
   "source": [
    "#### Tweedie Regressor (GLM) Model"
   ]
  },
  {
   "cell_type": "code",
   "execution_count": 75,
   "metadata": {},
   "outputs": [
    {
     "name": "stdout",
     "output_type": "stream",
     "text": [
      "RMSE for GLM using Tweedie, power=1 & alpha=0\n",
      "Training/In-Sample:  695357.406352167 \n",
      "Validation/Out-of-Sample:  695357.406352167\n"
     ]
    }
   ],
   "source": [
    "# create the model object\n",
    "glm = TweedieRegressor(power=1, alpha=0)\n",
    "\n",
    "\n",
    "# fit the model to our training data. We must specify the column in y_train, \n",
    "# since we have converted it to a dataframe from a series! \n",
    "glm.fit(X_train2, y_train2.tax_value)\n",
    "\n",
    "# predict train\n",
    "y_train2['tax_pred_glm'] = glm.predict(X_train2)\n",
    "\n",
    "# evaluate: rmse\n",
    "rmse_train = mean_squared_error(y_train2.tax_value, y_train2.tax_pred_glm) ** (1/2)\n",
    "\n",
    "# predict validate\n",
    "y_validate2['tax_pred_glm'] = glm.predict(X_validate2)\n",
    "\n",
    "# evaluate: rmse\n",
    "rmse_validate = mean_squared_error(y_train2.tax_value, y_train2.tax_pred_glm) ** (1/2)\n",
    "\n",
    "print(\"RMSE for GLM using Tweedie, power=1 & alpha=0\\nTraining/In-Sample: \", rmse_train, \n",
    "      \"\\nValidation/Out-of-Sample: \", rmse_validate)"
   ]
  },
  {
   "cell_type": "code",
   "execution_count": 76,
   "metadata": {},
   "outputs": [],
   "source": [
    "metric_df = metric_df.append({\n",
    "    'model': 'GLM (Poisson)', \n",
    "    'RMSE_validate': rmse_validate,\n",
    "    'r^2_validate': explained_variance_score(y_validate2.tax_value, y_validate2.tax_pred_glm)}, ignore_index=True)"
   ]
  },
  {
   "cell_type": "code",
   "execution_count": 77,
   "metadata": {},
   "outputs": [
    {
     "data": {
      "text/html": [
       "<div>\n",
       "<style scoped>\n",
       "    .dataframe tbody tr th:only-of-type {\n",
       "        vertical-align: middle;\n",
       "    }\n",
       "\n",
       "    .dataframe tbody tr th {\n",
       "        vertical-align: top;\n",
       "    }\n",
       "\n",
       "    .dataframe thead th {\n",
       "        text-align: right;\n",
       "    }\n",
       "</style>\n",
       "<table border=\"1\" class=\"dataframe\">\n",
       "  <thead>\n",
       "    <tr style=\"text-align: right;\">\n",
       "      <th></th>\n",
       "      <th>model</th>\n",
       "      <th>RMSE_validate</th>\n",
       "      <th>r^2_validate</th>\n",
       "    </tr>\n",
       "  </thead>\n",
       "  <tbody>\n",
       "    <tr>\n",
       "      <th>0</th>\n",
       "      <td>mean_baseline</td>\n",
       "      <td>780705.183041</td>\n",
       "      <td>2.220446e-16</td>\n",
       "    </tr>\n",
       "    <tr>\n",
       "      <th>1</th>\n",
       "      <td>OLS Regressor</td>\n",
       "      <td>583697.282620</td>\n",
       "      <td>4.173118e-01</td>\n",
       "    </tr>\n",
       "    <tr>\n",
       "      <th>2</th>\n",
       "      <td>Lasso Lars</td>\n",
       "      <td>583716.582772</td>\n",
       "      <td>4.172732e-01</td>\n",
       "    </tr>\n",
       "    <tr>\n",
       "      <th>3</th>\n",
       "      <td>GLM (Poisson)</td>\n",
       "      <td>695357.406352</td>\n",
       "      <td>2.220446e-16</td>\n",
       "    </tr>\n",
       "  </tbody>\n",
       "</table>\n",
       "</div>"
      ],
      "text/plain": [
       "           model  RMSE_validate  r^2_validate\n",
       "0  mean_baseline  780705.183041  2.220446e-16\n",
       "1  OLS Regressor  583697.282620  4.173118e-01\n",
       "2     Lasso Lars  583716.582772  4.172732e-01\n",
       "3  GLM (Poisson)  695357.406352  2.220446e-16"
      ]
     },
     "execution_count": 77,
     "metadata": {},
     "output_type": "execute_result"
    }
   ],
   "source": [
    "metric_df"
   ]
  },
  {
   "cell_type": "markdown",
   "metadata": {},
   "source": [
    "#### Polynomial Regression"
   ]
  },
  {
   "cell_type": "code",
   "execution_count": 52,
   "metadata": {},
   "outputs": [],
   "source": [
    "from sklearn.preprocessing import PolynomialFeatures\n",
    "# make the polynomial features to get a new set of features\n",
    "pf = PolynomialFeatures(degree=2)\n",
    "\n",
    "# fit and transform X_train_scaled\n",
    "X_train_degree2 = pf.fit_transform(X_train)\n",
    "\n",
    "# transform X_validate_scaled & X_test_scaled\n",
    "X_validate_degree2 = pf.transform(X_validate)\n",
    "X_test_degree2 =  pf.transform(X_test)"
   ]
  },
  {
   "cell_type": "code",
   "execution_count": 79,
   "metadata": {},
   "outputs": [
    {
     "name": "stdout",
     "output_type": "stream",
     "text": [
      "RMSE for Polynomial Model, degrees=2\n",
      "Training/In-Sample:  550049.853919652 \n",
      "Validation/Out-of-Sample:  340702517738.45386\n"
     ]
    }
   ],
   "source": [
    "# create the model object\n",
    "lm2 = LinearRegression(normalize=True)\n",
    "\n",
    "# fit the model to our training data. We must specify the column in y_train, \n",
    "# since we have converted it to a dataframe from a series! \n",
    "lm2.fit(X_train2, y_train2.tax_value)\n",
    "\n",
    "# predict train\n",
    "y_train2['tax_pred_lm2'] = lm2.predict(X_train2)\n",
    "\n",
    "# evaluate: rmse\n",
    "rmse_train = mean_squared_error(y_train2.tax_value, y_train2.tax_pred_lm2) ** (1/2)\n",
    "\n",
    "# predict validate\n",
    "y_validate2['tax_pred_lm2'] = lm2.predict(X_validate2)\n",
    "\n",
    "# evaluate: rmse\n",
    "rmse_validate = mean_squared_error(y_validate2.tax_value, y_validate2.tax_pred_lm2)\n",
    "\n",
    "print(\"RMSE for Polynomial Model, degrees=2\\nTraining/In-Sample: \", rmse_train, \n",
    "      \"\\nValidation/Out-of-Sample: \", rmse_validate)"
   ]
  },
  {
   "cell_type": "code",
   "execution_count": 81,
   "metadata": {},
   "outputs": [
    {
     "data": {
      "text/html": [
       "<div>\n",
       "<style scoped>\n",
       "    .dataframe tbody tr th:only-of-type {\n",
       "        vertical-align: middle;\n",
       "    }\n",
       "\n",
       "    .dataframe tbody tr th {\n",
       "        vertical-align: top;\n",
       "    }\n",
       "\n",
       "    .dataframe thead th {\n",
       "        text-align: right;\n",
       "    }\n",
       "</style>\n",
       "<table border=\"1\" class=\"dataframe\">\n",
       "  <thead>\n",
       "    <tr style=\"text-align: right;\">\n",
       "      <th></th>\n",
       "      <th>model</th>\n",
       "      <th>RMSE_validate</th>\n",
       "      <th>r^2_validate</th>\n",
       "    </tr>\n",
       "  </thead>\n",
       "  <tbody>\n",
       "    <tr>\n",
       "      <th>0</th>\n",
       "      <td>mean_baseline</td>\n",
       "      <td>7.807052e+05</td>\n",
       "      <td>2.220446e-16</td>\n",
       "    </tr>\n",
       "    <tr>\n",
       "      <th>1</th>\n",
       "      <td>OLS Regressor</td>\n",
       "      <td>5.836973e+05</td>\n",
       "      <td>4.173118e-01</td>\n",
       "    </tr>\n",
       "    <tr>\n",
       "      <th>2</th>\n",
       "      <td>Lasso Lars</td>\n",
       "      <td>5.837166e+05</td>\n",
       "      <td>4.172732e-01</td>\n",
       "    </tr>\n",
       "    <tr>\n",
       "      <th>3</th>\n",
       "      <td>GLM (Poisson)</td>\n",
       "      <td>6.953574e+05</td>\n",
       "      <td>2.220446e-16</td>\n",
       "    </tr>\n",
       "    <tr>\n",
       "      <th>4</th>\n",
       "      <td>Quadratic Model</td>\n",
       "      <td>3.407025e+11</td>\n",
       "      <td>4.173118e-01</td>\n",
       "    </tr>\n",
       "    <tr>\n",
       "      <th>5</th>\n",
       "      <td>Quadratic Model</td>\n",
       "      <td>3.407025e+11</td>\n",
       "      <td>4.173118e-01</td>\n",
       "    </tr>\n",
       "  </tbody>\n",
       "</table>\n",
       "</div>"
      ],
      "text/plain": [
       "             model  RMSE_validate  r^2_validate\n",
       "0    mean_baseline   7.807052e+05  2.220446e-16\n",
       "1    OLS Regressor   5.836973e+05  4.173118e-01\n",
       "2       Lasso Lars   5.837166e+05  4.172732e-01\n",
       "3    GLM (Poisson)   6.953574e+05  2.220446e-16\n",
       "4  Quadratic Model   3.407025e+11  4.173118e-01\n",
       "5  Quadratic Model   3.407025e+11  4.173118e-01"
      ]
     },
     "execution_count": 81,
     "metadata": {},
     "output_type": "execute_result"
    }
   ],
   "source": [
    "metric_df = metric_df.append({\n",
    "    'model': 'Quadratic Model', \n",
    "    'RMSE_validate': rmse_validate,\n",
    "    'r^2_validate': explained_variance_score(y_validate2.tax_value, y_validate2.tax_pred_lm2)}, ignore_index=True)\n",
    "metric_df"
   ]
  },
  {
   "cell_type": "code",
   "execution_count": 82,
   "metadata": {
    "scrolled": true
   },
   "outputs": [
    {
     "data": {
      "image/png": "[encoded data removed]",
      "text/plain": [
       "<Figure size 2160x720 with 5 Axes>"
      ]
     },
     "metadata": {
      "needs_background": "light"
     },
     "output_type": "display_data"
    }
   ],
   "source": [
    "plt.figure(figsize=(30, 10))\n",
    "# row, columns, index\n",
    "plt.subplot(2, 5, 1)\n",
    "plt.hist(y_validate2.tax_value, color='cornflowerblue')\n",
    "plt.title('Actual Tax Values')\n",
    "plt.subplot(2, 5, 2)\n",
    "plt.hist(y_validate2.tax_pred_lm, color='palevioletred')\n",
    "plt.title('Model: LinearRegression')\n",
    "plt.subplot(2, 5, 3)\n",
    "plt.hist(y_validate2.tax_pred_glm, color='lightcoral')\n",
    "plt.title('Model: TweedieRegressor')\n",
    "plt.subplot(2, 5, 4)\n",
    "plt.hist(y_validate2.tax_pred_lm2, color='tomato')\n",
    "plt.title('Model 2nd degree Polynomial')\n",
    "plt.subplot(2, 5, 5)\n",
    "plt.hist(y_validate2.tax_pred_lars, color='salmon')\n",
    "plt.title('Model Lasso Lars')\n",
    "\n",
    "\n",
    "plt.suptitle(\"Comparing the Distribution of Actual Tax Values to Distributions of Predicted Tax Values for the Top Models\")\n",
    "\n",
    "plt.show()"
   ]
  },
  {
   "cell_type": "markdown",
   "metadata": {},
   "source": [
    "#### Takeaway: The tweedie regressor model performs closest to the baseline."
   ]
  },
  {
   "cell_type": "code",
   "execution_count": 85,
   "metadata": {},
   "outputs": [
    {
     "name": "stdout",
     "output_type": "stream",
     "text": [
      "RMSE for GLM Model using LinearRegression\n",
      "Out-of-Sample Performance:  648058.7413728263\n"
     ]
    }
   ],
   "source": [
    "y_test = pd.DataFrame(y_test2)\n",
    "\n",
    "# predict on test\n",
    "y_test2['tax_pred_glm'] = glm.predict(X_test2)\n",
    "\n",
    "# evaluate: rmse\n",
    "rmse_test = mean_squared_error(y_test2.tax_value, y_test2.tax_pred_glm) ** (1/2)\n",
    "\n",
    "print(\"RMSE for GLM Model using LinearRegression\\nOut-of-Sample Performance: \", rmse_test)"
   ]
  },
  {
   "cell_type": "code",
   "execution_count": 94,
   "metadata": {},
   "outputs": [
    {
     "data": {
      "image/png": "[encoded data removed]",
      "text/plain": [
       "<Figure size 1440x720 with 1 Axes>"
      ]
     },
     "metadata": {
      "needs_background": "light"
     },
     "output_type": "display_data"
    }
   ],
   "source": [
    "# y_validate.head()\n",
    "plt.figure(figsize=(20,10))\n",
    "\n",
    "plt.axhline(label=\"No Error\")\n",
    "\n",
    "plt.scatter(y_validate2.tax_value, y_validate2.tax_pred_mean - y_validate2.tax_value , \n",
    "            alpha=.5, s=100, label=\"Baseline: LinearRegression\")\n",
    "\n",
    "plt.scatter(y_validate2.tax_value, y_validate.tax_pred_lm2 - y_validate2.tax_value , \n",
    "            alpha=.5, s=100, label=\"Model: PolynomialRegressor\")\n",
    "\n",
    "plt.scatter(y_validate2.tax_value, y_validate.tax_pred_glm - y_validate2.tax_value, \n",
    "            alpha=.6, s=100, label=\"Model: TweedieRegressor\")\n",
    "\n",
    "plt.scatter(y_validate2.tax_value, y_validate.tax_pred_lars - y_validate2.tax_value , \n",
    "            alpha=.7, s=100, label=\"Model: LassoLars\")\n",
    "\n",
    "plt.scatter(y_validate2.tax_value, y_validate.tax_pred_lm - y_validate2.tax_value , \n",
    "            alpha=.3, s=100, label=\"Model: LinearRegression\")\n",
    "\n",
    "\n",
    "\n",
    "plt.legend()\n",
    "plt.xlabel(\"Actual tax assessed value\")\n",
    "plt.ylabel(\"Predicted tax assessed value - Actual tax assessed value\")\n",
    "plt.title(\"Size of errors change as the actual value changes\")\n",
    "plt.show()"
   ]
  },
  {
   "cell_type": "code",
   "execution_count": 86,
   "metadata": {},
   "outputs": [
    {
     "data": {
      "text/plain": [
       "Text(0, 0.5, 'Count of Tax Values')"
      ]
     },
     "execution_count": 86,
     "metadata": {},
     "output_type": "execute_result"
    },
    {
     "data": {
      "image/png": "[encoded data removed]",
      "text/plain": [
       "<Figure size 1440x720 with 2 Axes>"
      ]
     },
     "metadata": {
      "needs_background": "light"
     },
     "output_type": "display_data"
    }
   ],
   "source": [
    "plt.figure(figsize=(20, 10))\n",
    "plt.subplot(1, 2, 1)\n",
    "plt.hist(y_test.tax_value, color='cornflowerblue')\n",
    "plt.title('Actual Tax Values')\n",
    "plt.xlabel(\"Tax Values\")\n",
    "plt.ylabel(\"Count of Tax Values\")\n",
    "plt.subplot(1, 2, 2)\n",
    "plt.hist(y_test.tax_pred_glm, color='palevioletred')\n",
    "plt.title('Predicted Tax Values')\n",
    "plt.xlabel(\"Tax Values\")\n",
    "plt.ylabel(\"Count of Tax Values\")"
   ]
  },
  {
   "cell_type": "markdown",
   "metadata": {},
   "source": [
    "# Overall Tax Rate"
   ]
  },
  {
   "cell_type": "code",
   "execution_count": 58,
   "metadata": {},
   "outputs": [
    {
     "data": {
      "text/html": [
       "<div>\n",
       "<style scoped>\n",
       "    .dataframe tbody tr th:only-of-type {\n",
       "        vertical-align: middle;\n",
       "    }\n",
       "\n",
       "    .dataframe tbody tr th {\n",
       "        vertical-align: top;\n",
       "    }\n",
       "\n",
       "    .dataframe thead th {\n",
       "        text-align: right;\n",
       "    }\n",
       "</style>\n",
       "<table border=\"1\" class=\"dataframe\">\n",
       "  <thead>\n",
       "    <tr style=\"text-align: right;\">\n",
       "      <th></th>\n",
       "      <th>fips</th>\n",
       "      <th>lot_size</th>\n",
       "      <th>square_feet</th>\n",
       "      <th>bedroom_count</th>\n",
       "      <th>bathroom_count</th>\n",
       "      <th>tax_amount</th>\n",
       "      <th>tax_value</th>\n",
       "      <th>county</th>\n",
       "      <th>tax_rate</th>\n",
       "    </tr>\n",
       "  </thead>\n",
       "  <tbody>\n",
       "    <tr>\n",
       "      <th>0</th>\n",
       "      <td>6037.0</td>\n",
       "      <td>5672.0</td>\n",
       "      <td>1316.0</td>\n",
       "      <td>3.0</td>\n",
       "      <td>2.0</td>\n",
       "      <td>2627.48</td>\n",
       "      <td>205123.0</td>\n",
       "      <td>los_angeles_county</td>\n",
       "      <td>1.28</td>\n",
       "    </tr>\n",
       "    <tr>\n",
       "      <th>1</th>\n",
       "      <td>6037.0</td>\n",
       "      <td>8284.0</td>\n",
       "      <td>1458.0</td>\n",
       "      <td>3.0</td>\n",
       "      <td>2.0</td>\n",
       "      <td>2319.90</td>\n",
       "      <td>136104.0</td>\n",
       "      <td>los_angeles_county</td>\n",
       "      <td>1.70</td>\n",
       "    </tr>\n",
       "    <tr>\n",
       "      <th>2</th>\n",
       "      <td>6037.0</td>\n",
       "      <td>6707.0</td>\n",
       "      <td>1421.0</td>\n",
       "      <td>2.0</td>\n",
       "      <td>1.0</td>\n",
       "      <td>543.69</td>\n",
       "      <td>35606.0</td>\n",
       "      <td>los_angeles_county</td>\n",
       "      <td>1.53</td>\n",
       "    </tr>\n",
       "    <tr>\n",
       "      <th>3</th>\n",
       "      <td>6059.0</td>\n",
       "      <td>4975.0</td>\n",
       "      <td>2541.0</td>\n",
       "      <td>4.0</td>\n",
       "      <td>3.0</td>\n",
       "      <td>9819.72</td>\n",
       "      <td>880456.0</td>\n",
       "      <td>orange_county</td>\n",
       "      <td>1.12</td>\n",
       "    </tr>\n",
       "    <tr>\n",
       "      <th>4</th>\n",
       "      <td>6037.0</td>\n",
       "      <td>5000.0</td>\n",
       "      <td>1491.0</td>\n",
       "      <td>3.0</td>\n",
       "      <td>2.0</td>\n",
       "      <td>1399.27</td>\n",
       "      <td>107110.0</td>\n",
       "      <td>los_angeles_county</td>\n",
       "      <td>1.31</td>\n",
       "    </tr>\n",
       "  </tbody>\n",
       "</table>\n",
       "</div>"
      ],
      "text/plain": [
       "     fips  lot_size  square_feet  bedroom_count  bathroom_count  tax_amount  \\\n",
       "0  6037.0    5672.0       1316.0            3.0             2.0     2627.48   \n",
       "1  6037.0    8284.0       1458.0            3.0             2.0     2319.90   \n",
       "2  6037.0    6707.0       1421.0            2.0             1.0      543.69   \n",
       "3  6059.0    4975.0       2541.0            4.0             3.0     9819.72   \n",
       "4  6037.0    5000.0       1491.0            3.0             2.0     1399.27   \n",
       "\n",
       "   tax_value              county  tax_rate  \n",
       "0   205123.0  los_angeles_county      1.28  \n",
       "1   136104.0  los_angeles_county      1.70  \n",
       "2    35606.0  los_angeles_county      1.53  \n",
       "3   880456.0       orange_county      1.12  \n",
       "4   107110.0  los_angeles_county      1.31  "
      ]
     },
     "execution_count": 58,
     "metadata": {},
     "output_type": "execute_result"
    }
   ],
   "source": [
    "df['tax_rate'] = round(((df.tax_amount / df.tax_value) * 100),2)\n",
    "df.head()"
   ]
  },
  {
   "cell_type": "code",
   "execution_count": 59,
   "metadata": {},
   "outputs": [],
   "source": [
    "grouped = df.groupby(df.county)\n",
    "la_county= grouped.get_group(\"los_angeles_county\")\n",
    "v_county= grouped.get_group(\"ventura_county\")\n",
    "o_county= grouped.get_group(\"orange_county\")"
   ]
  },
  {
   "cell_type": "code",
   "execution_count": 60,
   "metadata": {},
   "outputs": [
    {
     "data": {
      "text/plain": [
       "Text(0, 0.5, 'Count of Tax Rate')"
      ]
     },
     "execution_count": 60,
     "metadata": {},
     "output_type": "execute_result"
    },
    {
     "data": {
      "image/png": "[encoded data removed]",
      "text/plain": [
       "<Figure size 1080x720 with 3 Axes>"
      ]
     },
     "metadata": {
      "needs_background": "light"
     },
     "output_type": "display_data"
    }
   ],
   "source": [
    "plt.figure(figsize=(15, 10))\n",
    "plt.subplot(2, 3, 1)\n",
    "sns.distplot(la_county.tax_rate, color=\"deepskyblue\")\n",
    "plt.title('Los Angeles County')\n",
    "plt.xlabel(\"Tax Rate\")\n",
    "plt.ylabel(\"Count of Tax Rate\")\n",
    "\n",
    "plt.subplot(2, 3, 2)\n",
    "sns.distplot(v_county.tax_rate, color='dodgerblue')\n",
    "plt.title('Ventura County')\n",
    "plt.xlabel(\"Tax Rate\")\n",
    "plt.ylabel(\"Count of Tax Rate\")\n",
    "plt.subplot(2, 3, 3)\n",
    "sns.distplot(o_county.tax_rate, color=\"DarkTurquoise\")\n",
    "plt.title('Orange County')\n",
    "plt.xlabel(\"Tax Rate\")\n",
    "plt.ylabel(\"Count of Tax Rate\")"
   ]
  },
  {
   "cell_type": "code",
   "execution_count": 61,
   "metadata": {},
   "outputs": [
    {
     "data": {
      "text/plain": [
       "(1.408764811088739, 1.182332923329231, 1.2073068974425338)"
      ]
     },
     "execution_count": 61,
     "metadata": {},
     "output_type": "execute_result"
    }
   ],
   "source": [
    "la_county.tax_rate.mean(), v_county.tax_rate.mean(), o_county.tax_rate.mean()"
   ]
  },
  {
   "cell_type": "code",
   "execution_count": 62,
   "metadata": {},
   "outputs": [
    {
     "data": {
      "text/plain": [
       "(1.26, 1.12, 1.15)"
      ]
     },
     "execution_count": 62,
     "metadata": {},
     "output_type": "execute_result"
    }
   ],
   "source": [
    "la_county.tax_rate.median(), v_county.tax_rate.median(), o_county.tax_rate.median()"
   ]
  },
  {
   "cell_type": "code",
   "execution_count": 63,
   "metadata": {},
   "outputs": [],
   "source": [
    "df.to_csv('full_zillow.csv')"
   ]
  },
  {
   "cell_type": "markdown",
   "metadata": {},
   "source": [
    "# Conclusion and Recommendations"
   ]
  },
  {
   "cell_type": "markdown",
   "metadata": {},
   "source": [
    "The best 3 predictors for tax value are number of bedrooms, bathrooms and square footage according to KBest and RFE.<br>\n",
    "The best model for the data is the Tweedie Regressor which performed within 0.89 of the mean baseline. The worst performing model is the polynomial which performed within 4.41 of the baseline.<br>\n",
    "Although the Tweedie Regressor performs the best, it is still well below the baseline and the original data set has over 1.3 million rows while the cleaned data frame has about 30,000 it is not an wide scale reprentation of each county."
   ]
  },
  {
   "cell_type": "markdown",
   "metadata": {},
   "source": [
    "If more data and time were available, investigating number of stories, presence of hoa, and the combination of bedrooms and bathrooms would be good to investigate as features for predicting tax value."
   ]
  }
 ],
 "metadata": {
  "kernelspec": {
   "display_name": "Python 3",
   "language": "python",
   "name": "python3"
  },
  "language_info": {
   "codemirror_mode": {
    "name": "ipython",
    "version": 3
   },
   "file_extension": ".py",
   "mimetype": "text/x-python",
   "name": "python",
   "nbconvert_exporter": "python",
   "pygments_lexer": "ipython3",
   "version": "3.7.6"
  }
 },
 "nbformat": 4,
 "nbformat_minor": 4
}
