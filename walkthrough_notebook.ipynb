{
 "cells": [
  {
   "cell_type": "code",
   "execution_count": 1,
   "metadata": {},
   "outputs": [],
   "source": [
    "# Preparing the notebook by importing necessary modules\n",
    "from scipy import stats\n",
    "from math import sqrt\n",
    "import acquire\n",
    "import prepare\n",
    "from sklearn.model_selection import train_test_split\n",
    "\n",
    "from sklearn.linear_model import LinearRegression\n",
    "from sklearn.feature_selection import RFE\n",
    "from sklearn.linear_model import LinearRegression, LassoLars, TweedieRegressor\n",
    "from sklearn.preprocessing import PolynomialFeatures\n",
    "\n",
    "from sklearn.metrics import mean_squared_error, explained_variance_score\n",
    "from scipy import stats\n",
    "\n",
    "\n",
    "import pandas as pd\n",
    "import numpy as np\n",
    "import seaborn as sns\n",
    "import matplotlib.pyplot as plt\n",
    "%matplotlib inline\n",
    "\n",
    "import warnings\n",
    "warnings.filterwarnings(\"ignore\")"
   ]
  },
  {
   "cell_type": "markdown",
   "metadata": {},
   "source": [
    "# Acquire "
   ]
  },
  {
   "cell_type": "code",
   "execution_count": 2,
   "metadata": {},
   "outputs": [
    {
     "data": {
      "text/plain": [
       "(28073, 11)"
      ]
     },
     "execution_count": 2,
     "metadata": {},
     "output_type": "execute_result"
    }
   ],
   "source": [
    "df= acquire.get_zillow_data()\n",
    "df.shape"
   ]
  },
  {
   "cell_type": "code",
   "execution_count": 3,
   "metadata": {},
   "outputs": [
    {
     "name": "stdout",
     "output_type": "stream",
     "text": [
      "<class 'pandas.core.frame.DataFrame'>\n",
      "RangeIndex: 28073 entries, 0 to 28072\n",
      "Data columns (total 11 columns):\n",
      " #   Column                        Non-Null Count  Dtype  \n",
      "---  ------                        --------------  -----  \n",
      " 0   Unnamed: 0                    28073 non-null  int64  \n",
      " 1   parcelid                      28073 non-null  int64  \n",
      " 2   fips                          28073 non-null  float64\n",
      " 3   latitude                      28073 non-null  float64\n",
      " 4   longitude                     28073 non-null  float64\n",
      " 5   lotsizesquarefeet             27876 non-null  float64\n",
      " 6   calculatedfinishedsquarefeet  28070 non-null  float64\n",
      " 7   bedroomcnt                    28073 non-null  float64\n",
      " 8   bathroomcnt                   28073 non-null  float64\n",
      " 9   taxamount                     28072 non-null  float64\n",
      " 10  taxvaluedollarcnt             28072 non-null  float64\n",
      "dtypes: float64(9), int64(2)\n",
      "memory usage: 2.4 MB\n"
     ]
    }
   ],
   "source": [
    "df.info()"
   ]
  },
  {
   "cell_type": "code",
   "execution_count": 4,
   "metadata": {},
   "outputs": [
    {
     "data": {
      "text/html": [
       "<div>\n",
       "<style scoped>\n",
       "    .dataframe tbody tr th:only-of-type {\n",
       "        vertical-align: middle;\n",
       "    }\n",
       "\n",
       "    .dataframe tbody tr th {\n",
       "        vertical-align: top;\n",
       "    }\n",
       "\n",
       "    .dataframe thead th {\n",
       "        text-align: right;\n",
       "    }\n",
       "</style>\n",
       "<table border=\"1\" class=\"dataframe\">\n",
       "  <thead>\n",
       "    <tr style=\"text-align: right;\">\n",
       "      <th></th>\n",
       "      <th>Unnamed: 0</th>\n",
       "      <th>parcelid</th>\n",
       "      <th>fips</th>\n",
       "      <th>latitude</th>\n",
       "      <th>longitude</th>\n",
       "      <th>lotsizesquarefeet</th>\n",
       "      <th>calculatedfinishedsquarefeet</th>\n",
       "      <th>bedroomcnt</th>\n",
       "      <th>bathroomcnt</th>\n",
       "      <th>taxamount</th>\n",
       "      <th>taxvaluedollarcnt</th>\n",
       "    </tr>\n",
       "  </thead>\n",
       "  <tbody>\n",
       "    <tr>\n",
       "      <th>count</th>\n",
       "      <td>28073.00000</td>\n",
       "      <td>2.807300e+04</td>\n",
       "      <td>28073.000000</td>\n",
       "      <td>2.807300e+04</td>\n",
       "      <td>2.807300e+04</td>\n",
       "      <td>2.787600e+04</td>\n",
       "      <td>28070.000000</td>\n",
       "      <td>28073.000000</td>\n",
       "      <td>28073.000000</td>\n",
       "      <td>28072.000000</td>\n",
       "      <td>2.807200e+04</td>\n",
       "    </tr>\n",
       "    <tr>\n",
       "      <th>mean</th>\n",
       "      <td>14036.00000</td>\n",
       "      <td>1.303448e+07</td>\n",
       "      <td>6049.496349</td>\n",
       "      <td>3.402023e+07</td>\n",
       "      <td>-1.181959e+08</td>\n",
       "      <td>1.110263e+04</td>\n",
       "      <td>1935.358283</td>\n",
       "      <td>3.317814</td>\n",
       "      <td>2.322196</td>\n",
       "      <td>6487.964122</td>\n",
       "      <td>5.332710e+05</td>\n",
       "    </tr>\n",
       "    <tr>\n",
       "      <th>std</th>\n",
       "      <td>8104.12139</td>\n",
       "      <td>3.634770e+06</td>\n",
       "      <td>21.285999</td>\n",
       "      <td>2.750596e+05</td>\n",
       "      <td>3.603042e+05</td>\n",
       "      <td>6.937799e+04</td>\n",
       "      <td>995.141621</td>\n",
       "      <td>0.928716</td>\n",
       "      <td>1.011392</td>\n",
       "      <td>8166.165051</td>\n",
       "      <td>7.036372e+05</td>\n",
       "    </tr>\n",
       "    <tr>\n",
       "      <th>min</th>\n",
       "      <td>0.00000</td>\n",
       "      <td>1.071186e+07</td>\n",
       "      <td>6037.000000</td>\n",
       "      <td>3.334085e+07</td>\n",
       "      <td>-1.194484e+08</td>\n",
       "      <td>2.360000e+02</td>\n",
       "      <td>300.000000</td>\n",
       "      <td>1.000000</td>\n",
       "      <td>1.000000</td>\n",
       "      <td>51.260000</td>\n",
       "      <td>1.000000e+03</td>\n",
       "    </tr>\n",
       "    <tr>\n",
       "      <th>25%</th>\n",
       "      <td>7018.00000</td>\n",
       "      <td>1.150992e+07</td>\n",
       "      <td>6037.000000</td>\n",
       "      <td>3.382229e+07</td>\n",
       "      <td>-1.184054e+08</td>\n",
       "      <td>5.591000e+03</td>\n",
       "      <td>1279.000000</td>\n",
       "      <td>3.000000</td>\n",
       "      <td>2.000000</td>\n",
       "      <td>2705.097500</td>\n",
       "      <td>1.986365e+05</td>\n",
       "    </tr>\n",
       "    <tr>\n",
       "      <th>50%</th>\n",
       "      <td>14036.00000</td>\n",
       "      <td>1.259418e+07</td>\n",
       "      <td>6037.000000</td>\n",
       "      <td>3.402298e+07</td>\n",
       "      <td>-1.181536e+08</td>\n",
       "      <td>6.851000e+03</td>\n",
       "      <td>1675.000000</td>\n",
       "      <td>3.000000</td>\n",
       "      <td>2.000000</td>\n",
       "      <td>4734.315000</td>\n",
       "      <td>3.822645e+05</td>\n",
       "    </tr>\n",
       "    <tr>\n",
       "      <th>75%</th>\n",
       "      <td>21054.00000</td>\n",
       "      <td>1.414833e+07</td>\n",
       "      <td>6059.000000</td>\n",
       "      <td>3.418804e+07</td>\n",
       "      <td>-1.179270e+08</td>\n",
       "      <td>8.800000e+03</td>\n",
       "      <td>2326.000000</td>\n",
       "      <td>4.000000</td>\n",
       "      <td>3.000000</td>\n",
       "      <td>7516.247500</td>\n",
       "      <td>6.316750e+05</td>\n",
       "    </tr>\n",
       "    <tr>\n",
       "      <th>max</th>\n",
       "      <td>28072.00000</td>\n",
       "      <td>1.676392e+08</td>\n",
       "      <td>6111.000000</td>\n",
       "      <td>3.481877e+07</td>\n",
       "      <td>-1.175554e+08</td>\n",
       "      <td>6.971010e+06</td>\n",
       "      <td>17245.000000</td>\n",
       "      <td>12.000000</td>\n",
       "      <td>11.000000</td>\n",
       "      <td>276797.830000</td>\n",
       "      <td>2.385837e+07</td>\n",
       "    </tr>\n",
       "  </tbody>\n",
       "</table>\n",
       "</div>"
      ],
      "text/plain": [
       "        Unnamed: 0      parcelid          fips      latitude     longitude  \\\n",
       "count  28073.00000  2.807300e+04  28073.000000  2.807300e+04  2.807300e+04   \n",
       "mean   14036.00000  1.303448e+07   6049.496349  3.402023e+07 -1.181959e+08   \n",
       "std     8104.12139  3.634770e+06     21.285999  2.750596e+05  3.603042e+05   \n",
       "min        0.00000  1.071186e+07   6037.000000  3.334085e+07 -1.194484e+08   \n",
       "25%     7018.00000  1.150992e+07   6037.000000  3.382229e+07 -1.184054e+08   \n",
       "50%    14036.00000  1.259418e+07   6037.000000  3.402298e+07 -1.181536e+08   \n",
       "75%    21054.00000  1.414833e+07   6059.000000  3.418804e+07 -1.179270e+08   \n",
       "max    28072.00000  1.676392e+08   6111.000000  3.481877e+07 -1.175554e+08   \n",
       "\n",
       "       lotsizesquarefeet  calculatedfinishedsquarefeet    bedroomcnt  \\\n",
       "count       2.787600e+04                  28070.000000  28073.000000   \n",
       "mean        1.110263e+04                   1935.358283      3.317814   \n",
       "std         6.937799e+04                    995.141621      0.928716   \n",
       "min         2.360000e+02                    300.000000      1.000000   \n",
       "25%         5.591000e+03                   1279.000000      3.000000   \n",
       "50%         6.851000e+03                   1675.000000      3.000000   \n",
       "75%         8.800000e+03                   2326.000000      4.000000   \n",
       "max         6.971010e+06                  17245.000000     12.000000   \n",
       "\n",
       "        bathroomcnt      taxamount  taxvaluedollarcnt  \n",
       "count  28073.000000   28072.000000       2.807200e+04  \n",
       "mean       2.322196    6487.964122       5.332710e+05  \n",
       "std        1.011392    8166.165051       7.036372e+05  \n",
       "min        1.000000      51.260000       1.000000e+03  \n",
       "25%        2.000000    2705.097500       1.986365e+05  \n",
       "50%        2.000000    4734.315000       3.822645e+05  \n",
       "75%        3.000000    7516.247500       6.316750e+05  \n",
       "max       11.000000  276797.830000       2.385837e+07  "
      ]
     },
     "execution_count": 4,
     "metadata": {},
     "output_type": "execute_result"
    }
   ],
   "source": [
    "df.describe()"
   ]
  },
  {
   "cell_type": "markdown",
   "metadata": {},
   "source": [
    "Originally I got 77614 rows and 10 columns. I went back and edited my sql query to narrow features more closely.\n",
    "After editing my query to have bedrooms/bathrooms > 0, I got 28703 rows and 9 columns."
   ]
  },
  {
   "cell_type": "markdown",
   "metadata": {},
   "source": [
    "# Prepare"
   ]
  },
  {
   "cell_type": "markdown",
   "metadata": {},
   "source": [
    "To make reading the FIPS easier, I assigned the county names to each FIPS code and then appended the results onto the dataframe."
   ]
  },
  {
   "cell_type": "code",
   "execution_count": 5,
   "metadata": {},
   "outputs": [
    {
     "data": {
      "text/html": [
       "<div>\n",
       "<style scoped>\n",
       "    .dataframe tbody tr th:only-of-type {\n",
       "        vertical-align: middle;\n",
       "    }\n",
       "\n",
       "    .dataframe tbody tr th {\n",
       "        vertical-align: top;\n",
       "    }\n",
       "\n",
       "    .dataframe thead th {\n",
       "        text-align: right;\n",
       "    }\n",
       "</style>\n",
       "<table border=\"1\" class=\"dataframe\">\n",
       "  <thead>\n",
       "    <tr style=\"text-align: right;\">\n",
       "      <th></th>\n",
       "      <th>Unnamed: 0</th>\n",
       "      <th>parcelid</th>\n",
       "      <th>fips</th>\n",
       "      <th>latitude</th>\n",
       "      <th>longitude</th>\n",
       "      <th>lotsizesquarefeet</th>\n",
       "      <th>calculatedfinishedsquarefeet</th>\n",
       "      <th>bedroomcnt</th>\n",
       "      <th>bathroomcnt</th>\n",
       "      <th>taxamount</th>\n",
       "      <th>taxvaluedollarcnt</th>\n",
       "      <th>county</th>\n",
       "    </tr>\n",
       "  </thead>\n",
       "  <tbody>\n",
       "    <tr>\n",
       "      <th>0</th>\n",
       "      <td>0</td>\n",
       "      <td>11721753</td>\n",
       "      <td>6037.0</td>\n",
       "      <td>34033180.0</td>\n",
       "      <td>-118355396.0</td>\n",
       "      <td>5672.0</td>\n",
       "      <td>1316.0</td>\n",
       "      <td>3.0</td>\n",
       "      <td>2.0</td>\n",
       "      <td>2627.48</td>\n",
       "      <td>205123.0</td>\n",
       "      <td>los_angeles_county</td>\n",
       "    </tr>\n",
       "  </tbody>\n",
       "</table>\n",
       "</div>"
      ],
      "text/plain": [
       "   Unnamed: 0  parcelid    fips    latitude    longitude  lotsizesquarefeet  \\\n",
       "0           0  11721753  6037.0  34033180.0 -118355396.0             5672.0   \n",
       "\n",
       "   calculatedfinishedsquarefeet  bedroomcnt  bathroomcnt  taxamount  \\\n",
       "0                        1316.0         3.0          2.0    2627.48   \n",
       "\n",
       "   taxvaluedollarcnt              county  \n",
       "0           205123.0  los_angeles_county  "
      ]
     },
     "execution_count": 5,
     "metadata": {},
     "output_type": "execute_result"
    }
   ],
   "source": [
    "county_name = []\n",
    "for row in df['fips']:\n",
    "        if row == 6037.0:    \n",
    "            county_name.append('los_angeles_county')\n",
    "        elif row == 6059.0:   \n",
    "            county_name.append('orange_county')\n",
    "        elif row == 6111.0:  \n",
    "            county_name.append('ventura_county')\n",
    "        else:           \n",
    "            county_name.append('no_county')\n",
    "df['county']= county_name\n",
    "df.head(1)"
   ]
  },
  {
   "cell_type": "markdown",
   "metadata": {},
   "source": [
    "My first iteration of the dataframe had lots of nans/nulls. I handled them originally by filling them with the mode (most commonly occuring value) for each column."
   ]
  },
  {
   "cell_type": "code",
   "execution_count": 6,
   "metadata": {},
   "outputs": [],
   "source": [
    "df['bedroomcnt'].fillna(df['bedroomcnt'].mode()[0], inplace=True)\n",
    "df['bathroomcnt'].fillna(df['bathroomcnt'].mode()[0], inplace=True)\n",
    "df['calculatedfinishedsquarefeet'].fillna(df['calculatedfinishedsquarefeet'].mode()[0], inplace=True)\n",
    "df['fips'].fillna(df['fips'].mode()[0], inplace=True)\n",
    "df['taxamount'].fillna(df['taxamount'].mode()[0], inplace=True)\n",
    "df['taxvaluedollarcnt'].fillna(df['taxvaluedollarcnt'].mode()[0], inplace=True)"
   ]
  },
  {
   "cell_type": "code",
   "execution_count": 7,
   "metadata": {},
   "outputs": [
    {
     "data": {
      "text/plain": [
       "Text(0, 0.5, 'Count of Tax Value')"
      ]
     },
     "execution_count": 7,
     "metadata": {},
     "output_type": "execute_result"
    },
    {
     "data": {
      "image/png": "[encoded data removed]",
      "text/plain": [
       "<Figure size 2160x1440 with 7 Axes>"
      ]
     },
     "metadata": {
      "needs_background": "light"
     },
     "output_type": "display_data"
    }
   ],
   "source": [
    "plt.figure(figsize=(30, 20))\n",
    "\n",
    "plt.suptitle(\"Plotting the distributions of the numerical columns\")\n",
    "# row, columns, index\n",
    "plt.subplot(3, 3, 1)\n",
    "plt.hist(df.parcelid, align='left', edgecolor='darkblue', alpha=0.5, color='palevioletred')\n",
    "plt.title('Parcel ID')\n",
    "plt.xlabel(\"Parcel ID\")\n",
    "plt.ylabel(\"Count of Parcel ID\")\n",
    "\n",
    "\n",
    "plt.subplot(3, 3, 2)\n",
    "plt.hist(df.bedroomcnt, align='left', edgecolor='darkblue', alpha=0.5, color='palevioletred')\n",
    "plt.title('Bedroom Count')\n",
    "plt.xlabel(\"Number of Bedrooms\")\n",
    "plt.ylabel(\"Count of Number of Bedrooms\")\n",
    "\n",
    "\n",
    "plt.subplot(3, 3, 3)\n",
    "plt.hist(df.bathroomcnt, align='left', edgecolor='darkblue', alpha=0.5, color='palevioletred')\n",
    "plt.title('Bathroom Count')\n",
    "plt.xlabel(\"Number of Bathrooms\")\n",
    "plt.ylabel(\"Count of number of bathrooms\")\n",
    "\n",
    "\n",
    "plt.subplot(3, 3, 4)\n",
    "plt.hist(df.calculatedfinishedsquarefeet, align='left', edgecolor='darkblue', alpha=0.5, color='palevioletred')\n",
    "plt.title('Square Footage')\n",
    "plt.xlabel(\"Square Footage\")\n",
    "plt.ylabel(\"Count of Square Footage\")\n",
    "\n",
    "\n",
    "plt.subplot(3, 3, 5)\n",
    "plt.hist(df.fips, align='left', edgecolor='darkblue', alpha=0.5, color='palevioletred')\n",
    "plt.title('Federal Information Processing System (FIPS)')\n",
    "plt.xlabel(\"FIPS\")\n",
    "plt.ylabel(\"Count of Clients in each Tenure\")\n",
    "\n",
    "\n",
    "plt.subplot(3, 3, 6)\n",
    "plt.hist(df.taxamount, align='left', edgecolor='darkblue', alpha=0.5, color='palevioletred')\n",
    "plt.title('Tax Amount')\n",
    "plt.xlabel(\"Tax Amount\")\n",
    "plt.ylabel(\"Count of Tax Amount\")\n",
    "\n",
    "plt.subplot(3,3,7)\n",
    "plt.hist(df.taxvaluedollarcnt, align='left', edgecolor='darkblue', alpha=0.5, color='palevioletred')\n",
    "plt.title('Tax Value')\n",
    "plt.xlabel(\"Tax Value\")\n",
    "plt.ylabel(\"Count of Tax Value\")"
   ]
  },
  {
   "cell_type": "markdown",
   "metadata": {},
   "source": [
    "In the prepare.py created, the following functions are defined:\n",
    "<ul>\n",
    "    <li> clean_zillow- Takes in the full dataframe from acquire.py, handles nans, renames columns and appends necessary data.\n",
    "    <li> prep_zillow_data- Takes in the clean zillow data and splits into train, validate, test.\n",
    "    <li> prep_split_zillow_data- This function takes in the clean data, drops the tax amount for modeling purposes and then splits the data into X/Y Train, Validate/Test.\n",
    "    <li> remove_outliers_zillow- This function takes in the cleaned zillow data and handles outliers as needed."
   ]
  },
  {
   "cell_type": "markdown",
   "metadata": {},
   "source": [
    "# Explore"
   ]
  },
  {
   "cell_type": "code",
   "execution_count": 8,
   "metadata": {},
   "outputs": [
    {
     "name": "stdout",
     "output_type": "stream",
     "text": [
      "<class 'pandas.core.frame.DataFrame'>\n",
      "RangeIndex: 28073 entries, 0 to 28072\n",
      "Data columns (total 8 columns):\n",
      " #   Column          Non-Null Count  Dtype  \n",
      "---  ------          --------------  -----  \n",
      " 0   fips            28073 non-null  float64\n",
      " 1   lot_size        28073 non-null  float64\n",
      " 2   square_feet     28073 non-null  float64\n",
      " 3   bedroom_count   28073 non-null  float64\n",
      " 4   bathroom_count  28073 non-null  float64\n",
      " 5   tax_amount      28073 non-null  float64\n",
      " 6   tax_value       28073 non-null  float64\n",
      " 7   county          28073 non-null  object \n",
      "dtypes: float64(7), object(1)\n",
      "memory usage: 1.7+ MB\n"
     ]
    }
   ],
   "source": [
    "df=prepare.clean_zillow()\n",
    "df.info()"
   ]
  },
  {
   "cell_type": "code",
   "execution_count": 9,
   "metadata": {},
   "outputs": [],
   "source": [
    "train, validate, test = prepare.prep_zillow_data()"
   ]
  },
  {
   "cell_type": "markdown",
   "metadata": {},
   "source": [
    "## Hypothesis Testing:\n",
    "### 1st Hypothesis Test:\n",
    "$H_0$: Homes have the same mean tax value in each county.\n",
    "\n",
    "$H_a$: Homes in Los Angeles have a higher mean tax value than in Ventura or Orange Counties.\n",
    "\n",
    "alpha ($\\alpha$): 1 - confidence level (95% confidence level -> $\\alpha = .05$)"
   ]
  },
  {
   "cell_type": "code",
   "execution_count": 10,
   "metadata": {},
   "outputs": [],
   "source": [
    "n = train.shape[0]     # number of observations\n",
    "degf = n - 2        # degrees of freedom: the # of values in the final calculation of a statistic that are free to vary.\n",
    "conf_interval = .95 # desired confidence interval\n",
    "α = 1 - conf_interval\n",
    "null_hypothesis = \"homes have the same mean tax value in each county.\""
   ]
  },
  {
   "cell_type": "code",
   "execution_count": 11,
   "metadata": {},
   "outputs": [],
   "source": [
    "x1 = train[train.county == 'los_angeles_county'].tax_value\n",
    "x2 = train[train.county != 'los_angeles_county'].tax_value\n",
    "\n",
    "x_bar1 = x1.mean()\n",
    "x_bar2 = x2.mean()\n",
    "\n",
    "n1 = x1.shape[0]\n",
    "n2 = x2.shape[0]\n",
    "\n",
    "s1 = x1.std()\n",
    "s2 = x2.std()\n",
    "\n",
    "degf = n1 + n2 - 2\n",
    "\n",
    "s_p = sqrt(((n1 - 1) * s1**2 + (n2 - 1) * s2**2) / (n1 + n2 - 2))\n",
    "\n",
    "\n",
    "standard_error = se = sqrt(s1**2 / n1 + s2**2 / n2)\n",
    "\n",
    "t= (x_bar1 - x_bar2)/ (s_p * sqrt(1/n1 + 1/n2))"
   ]
  },
  {
   "cell_type": "code",
   "execution_count": 12,
   "metadata": {},
   "outputs": [
    {
     "name": "stdout",
     "output_type": "stream",
     "text": [
      "t = -5.65890\n",
      "p = 2.00000\n"
     ]
    },
    {
     "data": {
      "text/plain": [
       "Ttest_indResult(statistic=-5.65889745308946, pvalue=1.553889721671033e-08)"
      ]
     },
     "execution_count": 12,
     "metadata": {},
     "output_type": "execute_result"
    }
   ],
   "source": [
    "p = stats.t(degf).sf(t) * 2\n",
    "stats.ttest_ind(x1, x2)\n",
    "print(f't = {t:.5f}')\n",
    "print(f'p = {p:.5f}')\n",
    "stats.ttest_ind(x1, x2)"
   ]
  },
  {
   "cell_type": "code",
   "execution_count": 13,
   "metadata": {},
   "outputs": [
    {
     "name": "stdout",
     "output_type": "stream",
     "text": [
      "We fail to reject the null hypothesis. The null hypothesis is that homes have the same mean tax value in each county.\n"
     ]
    }
   ],
   "source": [
    "if p > α:\n",
    "    print(\"We fail to reject the null hypothesis. The null hypothesis is that\", null_hypothesis)\n",
    "elif t < 0 :\n",
    "    print(\"We fail to reject the null hypothesis. The null hypothesis is that\", null_hypothesis)\n",
    "else:\n",
    "    print(\"We reject the null hypothesis that\", null_hypothesis)"
   ]
  },
  {
   "cell_type": "markdown",
   "metadata": {},
   "source": [
    "### 2nd Hypothesis Test:\n",
    "𝐻0 : Number of bathrooms have no correlation with tax value.\n",
    "\n",
    "𝐻𝑎 : Homes with more bathrooms are correlated with higher tax values.\n",
    "\n",
    "alpha ( 𝛼 ): 1 - confidence level (95% confidence level ->  𝛼=.05 )"
   ]
  },
  {
   "cell_type": "code",
   "execution_count": 14,
   "metadata": {},
   "outputs": [],
   "source": [
    "n = df.shape[0]     # number of observations\n",
    "degf = n - 2        # degrees of freedom: the # of values in the final calculation of a statistic that are free to vary.\n",
    "conf_interval = .95 # desired confidence interval\n",
    "α = 1 - conf_interval\n",
    "null_hypothesis='number of bathrooms have no correlation with tax value.'"
   ]
  },
  {
   "cell_type": "code",
   "execution_count": 15,
   "metadata": {},
   "outputs": [],
   "source": [
    "x = df.bathroom_count\n",
    "y = df.tax_value"
   ]
  },
  {
   "cell_type": "code",
   "execution_count": 16,
   "metadata": {},
   "outputs": [
    {
     "data": {
      "text/plain": [
       "(0.52616664170778, 0.0)"
      ]
     },
     "execution_count": 16,
     "metadata": {},
     "output_type": "execute_result"
    }
   ],
   "source": [
    "corr, p = stats.pearsonr(x, y)\n",
    "corr, p"
   ]
  },
  {
   "cell_type": "code",
   "execution_count": 17,
   "metadata": {},
   "outputs": [
    {
     "name": "stdout",
     "output_type": "stream",
     "text": [
      "We fail to reject the null hypothesis. The null hypothesis is that number of bathrooms have no correlation with tax value.\n"
     ]
    }
   ],
   "source": [
    "if p >  α:\n",
    "    print(\"We fail to reject the null hypothesis. The null hypothesis is that\", null_hypothesis)\n",
    "elif t < 0 :\n",
    "    print(\"We fail to reject the null hypothesis. The null hypothesis is that\", null_hypothesis)\n",
    "else:\n",
    "    print(\"We reject the null hypothesis that\", null_hypothesis)"
   ]
  },
  {
   "cell_type": "markdown",
   "metadata": {},
   "source": [
    "### 3rd Hypothesis Test:\n",
    "𝐻0 : Number of bedrooms have no correlation with tax value.\n",
    "\n",
    "𝐻𝑎 : Homes with more bedrooms are correlated with higher tax values.\n",
    "\n",
    "alpha ( 𝛼 ): 1 - confidence level (95% confidence level ->  𝛼=.05 )"
   ]
  },
  {
   "cell_type": "code",
   "execution_count": 18,
   "metadata": {},
   "outputs": [],
   "source": [
    "n = df.shape[0]     # number of observations\n",
    "degf = n - 2        # degrees of freedom: the # of values in the final calculation of a statistic that are free to vary.\n",
    "conf_interval = .95 # desired confidence interval\n",
    "α = 1 - conf_interval\n",
    "null_hypothesis='number of bedrooms have no correlation with tax value.'"
   ]
  },
  {
   "cell_type": "code",
   "execution_count": 19,
   "metadata": {},
   "outputs": [],
   "source": [
    "x2 = df.bedroom_count\n",
    "y2 = df.tax_value"
   ]
  },
  {
   "cell_type": "code",
   "execution_count": 20,
   "metadata": {},
   "outputs": [
    {
     "data": {
      "text/plain": [
       "(0.2807020979909201, 0.0)"
      ]
     },
     "execution_count": 20,
     "metadata": {},
     "output_type": "execute_result"
    }
   ],
   "source": [
    "corr, p = stats.pearsonr(x2, y2)\n",
    "corr, p"
   ]
  },
  {
   "cell_type": "code",
   "execution_count": 21,
   "metadata": {},
   "outputs": [
    {
     "name": "stdout",
     "output_type": "stream",
     "text": [
      "We fail to reject the null hypothesis. The null hypothesis is that number of bedrooms have no correlation with tax value.\n"
     ]
    }
   ],
   "source": [
    "if p >  α:\n",
    "    print(\"We fail to reject the null hypothesis. The null hypothesis is that\", null_hypothesis)\n",
    "elif t < 0 :\n",
    "    print(\"We fail to reject the null hypothesis. The null hypothesis is that\", null_hypothesis)\n",
    "else:\n",
    "    print(\"We reject the null hypothesis that\", null_hypothesis)"
   ]
  },
  {
   "cell_type": "markdown",
   "metadata": {},
   "source": [
    "### 4th Hypothesis Test:\n",
    "𝐻0 : Square footage has no correlation with tax value.\n",
    "\n",
    "𝐻𝑎 : Homes with a higher square footage are correlated with higher tax values.\n",
    "\n",
    "alpha ( 𝛼 ): 1 - confidence level (95% confidence level ->  𝛼=.05 )"
   ]
  },
  {
   "cell_type": "code",
   "execution_count": 22,
   "metadata": {},
   "outputs": [],
   "source": [
    "n = df.shape[0]     # number of observations\n",
    "degf = n - 2        # degrees of freedom: the # of values in the final calculation of a statistic that are free to vary.\n",
    "conf_interval = .95 # desired confidence interval\n",
    "α = 1 - conf_interval\n",
    "null_hypothesis=\"square footage has no correlation with tax value.\""
   ]
  },
  {
   "cell_type": "code",
   "execution_count": 23,
   "metadata": {},
   "outputs": [],
   "source": [
    "x3 = df.square_feet\n",
    "y3 = df.tax_value"
   ]
  },
  {
   "cell_type": "code",
   "execution_count": 24,
   "metadata": {},
   "outputs": [
    {
     "data": {
      "text/plain": [
       "(0.611763274652983, 0.0)"
      ]
     },
     "execution_count": 24,
     "metadata": {},
     "output_type": "execute_result"
    }
   ],
   "source": [
    "corr, p = stats.pearsonr(x3, y3)\n",
    "corr, p"
   ]
  },
  {
   "cell_type": "code",
   "execution_count": 25,
   "metadata": {},
   "outputs": [
    {
     "name": "stdout",
     "output_type": "stream",
     "text": [
      "We fail to reject the null hypothesis. The null hypothesis is that square footage has no correlation with tax value.\n"
     ]
    }
   ],
   "source": [
    "if p >  α:\n",
    "    print(\"We fail to reject the null hypothesis. The null hypothesis is that\", null_hypothesis)\n",
    "elif t < 0 :\n",
    "    print(\"We fail to reject the null hypothesis. The null hypothesis is that\", null_hypothesis)\n",
    "else:\n",
    "    print(\"We reject the null hypothesis that\", null_hypothesis)"
   ]
  },
  {
   "cell_type": "code",
   "execution_count": 26,
   "metadata": {},
   "outputs": [
    {
     "data": {
      "text/plain": [
       "((13755, 8), (5896, 8), (8422, 8))"
      ]
     },
     "execution_count": 26,
     "metadata": {},
     "output_type": "execute_result"
    }
   ],
   "source": [
    "np.random.seed(1019)\n",
    "train, validate, test = prepare.prep_zillow_data()\n",
    "train.shape, validate.shape, test.shape"
   ]
  },
  {
   "cell_type": "code",
   "execution_count": 27,
   "metadata": {},
   "outputs": [
    {
     "data": {
      "image/png": "[encoded data removed]",
      "text/plain": [
       "<Figure size 288x144 with 1 Axes>"
      ]
     },
     "metadata": {
      "needs_background": "light"
     },
     "output_type": "display_data"
    },
    {
     "data": {
      "image/png": "[encoded data removed]",
      "text/plain": [
       "<Figure size 288x144 with 1 Axes>"
      ]
     },
     "metadata": {
      "needs_background": "light"
     },
     "output_type": "display_data"
    },
    {
     "data": {
      "image/png": "[encoded data removed]",
      "text/plain": [
       "<Figure size 288x144 with 1 Axes>"
      ]
     },
     "metadata": {
      "needs_background": "light"
     },
     "output_type": "display_data"
    },
    {
     "data": {
      "image/png": "[encoded data removed]",
      "text/plain": [
       "<Figure size 288x144 with 1 Axes>"
      ]
     },
     "metadata": {
      "needs_background": "light"
     },
     "output_type": "display_data"
    },
    {
     "data": {
      "image/png": "[encoded data removed]",
      "text/plain": [
       "<Figure size 288x144 with 1 Axes>"
      ]
     },
     "metadata": {
      "needs_background": "light"
     },
     "output_type": "display_data"
    },
    {
     "data": {
      "image/png": "[encoded data removed]",
      "text/plain": [
       "<Figure size 288x144 with 1 Axes>"
      ]
     },
     "metadata": {
      "needs_background": "light"
     },
     "output_type": "display_data"
    },
    {
     "data": {
      "image/png": "[encoded data removed]",
      "text/plain": [
       "<Figure size 288x144 with 1 Axes>"
      ]
     },
     "metadata": {
      "needs_background": "light"
     },
     "output_type": "display_data"
    },
    {
     "data": {
      "image/png": "[encoded data removed]",
      "text/plain": [
       "<Figure size 288x144 with 1 Axes>"
      ]
     },
     "metadata": {
      "needs_background": "light"
     },
     "output_type": "display_data"
    }
   ],
   "source": [
    "for col in train.columns:\n",
    "    plt.figure(figsize=(4,2))\n",
    "    plt.hist(train[col], color=\"palevioletred\")\n",
    "    plt.title(col)\n",
    "    plt.show()"
   ]
  },
  {
   "cell_type": "markdown",
   "metadata": {},
   "source": [
    "# Feature Engineering"
   ]
  },
  {
   "cell_type": "markdown",
   "metadata": {},
   "source": [
    "# Model"
   ]
  },
  {
   "cell_type": "code",
   "execution_count": 28,
   "metadata": {},
   "outputs": [],
   "source": [
    "X_train, X_validate, X_test, y_train, y_validate, y_test = prepare.prep_split_zillow_data()"
   ]
  },
  {
   "cell_type": "code",
   "execution_count": 29,
   "metadata": {},
   "outputs": [
    {
     "data": {
      "text/plain": [
       "((15720, 1), (6738, 1), (5615, 1), (15720, 1), (6738, 1), (5615, 1))"
      ]
     },
     "execution_count": 29,
     "metadata": {},
     "output_type": "execute_result"
    }
   ],
   "source": [
    "X_train.shape, X_validate.shape, X_test.shape, y_train.shape, y_validate.shape, y_test.shape"
   ]
  },
  {
   "cell_type": "code",
   "execution_count": 30,
   "metadata": {},
   "outputs": [
    {
     "data": {
      "text/html": [
       "<div>\n",
       "<style scoped>\n",
       "    .dataframe tbody tr th:only-of-type {\n",
       "        vertical-align: middle;\n",
       "    }\n",
       "\n",
       "    .dataframe tbody tr th {\n",
       "        vertical-align: top;\n",
       "    }\n",
       "\n",
       "    .dataframe thead th {\n",
       "        text-align: right;\n",
       "    }\n",
       "</style>\n",
       "<table border=\"1\" class=\"dataframe\">\n",
       "  <thead>\n",
       "    <tr style=\"text-align: right;\">\n",
       "      <th></th>\n",
       "      <th>tax_value</th>\n",
       "    </tr>\n",
       "  </thead>\n",
       "  <tbody>\n",
       "    <tr>\n",
       "      <th>16223</th>\n",
       "      <td>54624.0</td>\n",
       "    </tr>\n",
       "    <tr>\n",
       "      <th>428</th>\n",
       "      <td>638000.0</td>\n",
       "    </tr>\n",
       "    <tr>\n",
       "      <th>453</th>\n",
       "      <td>89105.0</td>\n",
       "    </tr>\n",
       "    <tr>\n",
       "      <th>27470</th>\n",
       "      <td>219000.0</td>\n",
       "    </tr>\n",
       "    <tr>\n",
       "      <th>13093</th>\n",
       "      <td>779236.0</td>\n",
       "    </tr>\n",
       "  </tbody>\n",
       "</table>\n",
       "</div>"
      ],
      "text/plain": [
       "       tax_value\n",
       "16223    54624.0\n",
       "428     638000.0\n",
       "453      89105.0\n",
       "27470   219000.0\n",
       "13093   779236.0"
      ]
     },
     "execution_count": 30,
     "metadata": {},
     "output_type": "execute_result"
    }
   ],
   "source": [
    "X_train.head()"
   ]
  },
  {
   "cell_type": "code",
   "execution_count": 31,
   "metadata": {},
   "outputs": [
    {
     "data": {
      "text/html": [
       "<div>\n",
       "<style scoped>\n",
       "    .dataframe tbody tr th:only-of-type {\n",
       "        vertical-align: middle;\n",
       "    }\n",
       "\n",
       "    .dataframe tbody tr th {\n",
       "        vertical-align: top;\n",
       "    }\n",
       "\n",
       "    .dataframe thead th {\n",
       "        text-align: right;\n",
       "    }\n",
       "</style>\n",
       "<table border=\"1\" class=\"dataframe\">\n",
       "  <thead>\n",
       "    <tr style=\"text-align: right;\">\n",
       "      <th></th>\n",
       "      <th>tax_value</th>\n",
       "    </tr>\n",
       "  </thead>\n",
       "  <tbody>\n",
       "    <tr>\n",
       "      <th>16223</th>\n",
       "      <td>54624.0</td>\n",
       "    </tr>\n",
       "    <tr>\n",
       "      <th>428</th>\n",
       "      <td>638000.0</td>\n",
       "    </tr>\n",
       "    <tr>\n",
       "      <th>453</th>\n",
       "      <td>89105.0</td>\n",
       "    </tr>\n",
       "    <tr>\n",
       "      <th>27470</th>\n",
       "      <td>219000.0</td>\n",
       "    </tr>\n",
       "    <tr>\n",
       "      <th>13093</th>\n",
       "      <td>779236.0</td>\n",
       "    </tr>\n",
       "  </tbody>\n",
       "</table>\n",
       "</div>"
      ],
      "text/plain": [
       "       tax_value\n",
       "16223    54624.0\n",
       "428     638000.0\n",
       "453      89105.0\n",
       "27470   219000.0\n",
       "13093   779236.0"
      ]
     },
     "execution_count": 31,
     "metadata": {},
     "output_type": "execute_result"
    }
   ],
   "source": [
    "y_train.head()"
   ]
  },
  {
   "cell_type": "code",
   "execution_count": 32,
   "metadata": {},
   "outputs": [
    {
     "data": {
      "text/plain": [
       "count       13755.000000\n",
       "mean       535930.102508\n",
       "std        725279.581789\n",
       "min         13199.000000\n",
       "25%        199178.500000\n",
       "50%        384198.000000\n",
       "75%        635084.500000\n",
       "max      23858374.000000\n",
       "Name: tax_value, dtype: object"
      ]
     },
     "execution_count": 32,
     "metadata": {},
     "output_type": "execute_result"
    }
   ],
   "source": [
    "train.tax_value.describe().apply(lambda x: format(x, 'f'))"
   ]
  },
  {
   "cell_type": "markdown",
   "metadata": {},
   "source": [
    "#### Baseline"
   ]
  },
  {
   "cell_type": "code",
   "execution_count": 33,
   "metadata": {},
   "outputs": [
    {
     "name": "stdout",
     "output_type": "stream",
     "text": [
      "The Baseline Mean Squared Error: 483539975715.93\n",
      "The Baseline Root Mean Squared Error: 241769987857.96\n"
     ]
    }
   ],
   "source": [
    "baseline = train.tax_value.mean()\n",
    "\n",
    "baseline_mse = mean_squared_error(y_train, np.full(y_train.shape, baseline))\n",
    "baseline_rmse = baseline_mse**1/2\n",
    "\n",
    "print('The Baseline Mean Squared Error:', round(baseline_mse,2))\n",
    "print('The Baseline Root Mean Squared Error:', round(baseline_rmse,2))"
   ]
  },
  {
   "cell_type": "markdown",
   "metadata": {},
   "source": [
    "#### Linear Regression Model"
   ]
  },
  {
   "cell_type": "code",
   "execution_count": 34,
   "metadata": {},
   "outputs": [
    {
     "data": {
      "text/plain": [
       "5.154348544027519e-20"
      ]
     },
     "execution_count": 34,
     "metadata": {},
     "output_type": "execute_result"
    }
   ],
   "source": [
    "# create the object\n",
    "lm = LinearRegression(normalize=True)\n",
    "\n",
    "# fit object to the train data only\n",
    "lm.fit(X_train, y_train)\n",
    "\n",
    "# Predict our training observations\n",
    "lm_pred = lm.predict(X_train)\n",
    "\n",
    "# evaluate the training predictions\n",
    "# compute root mean squared error\n",
    "lm_mse = mean_squared_error(y_train, lm_pred)\n",
    "lm_rmse = lm_mse**1/2\n",
    "\n",
    "lm_rmse"
   ]
  },
  {
   "cell_type": "markdown",
   "metadata": {},
   "source": [
    "#### Lasso Lars Model"
   ]
  },
  {
   "cell_type": "code",
   "execution_count": 35,
   "metadata": {},
   "outputs": [
    {
     "data": {
      "text/plain": [
       "78.59999999391218"
      ]
     },
     "execution_count": 35,
     "metadata": {},
     "output_type": "execute_result"
    }
   ],
   "source": [
    "# create the object\n",
    "lars = LassoLars(alpha=0.1)\n",
    "\n",
    "# fit to the train data only\n",
    "lars.fit(X_train, y_train)\n",
    "\n",
    "# predict our training observations\n",
    "lars_pred = lars.predict(X_train)\n",
    "\n",
    "# evaluate our training predictions\n",
    "lars_mse = mean_squared_error(y_train, lars_pred)\n",
    "lars_rmse = lars_mse**1/2\n",
    "\n",
    "lars_rmse"
   ]
  },
  {
   "cell_type": "markdown",
   "metadata": {},
   "source": [
    "#### Polynomial Model"
   ]
  },
  {
   "cell_type": "code",
   "execution_count": 36,
   "metadata": {},
   "outputs": [
    {
     "data": {
      "text/plain": [
       "284623714.2972265"
      ]
     },
     "execution_count": 36,
     "metadata": {},
     "output_type": "execute_result"
    }
   ],
   "source": [
    "pf = PolynomialFeatures(degree=3)\n",
    "\n",
    "# fit and transform the thing\n",
    "# to get a new set of features..which are the original features sqauared\n",
    "X_train_cubed = pf.fit_transform(X_train)\n",
    "\n",
    "# fit the model using our training observations that have been cubed.\n",
    "# feed that data into our linear model\n",
    "# make the thing\n",
    "lm_cubed = LinearRegression()\n",
    "lm_cubed.fit(X_train_cubed, y_train)\n",
    "\n",
    "# predict our training observations (the cubed version)\n",
    "lm_cubed_pred = lm_cubed.predict(X_train_cubed)\n",
    "\n",
    "# evaluate our predictions on training observations\n",
    "lm_cubed_mse = mean_squared_error(y_train, lm_cubed_pred)\n",
    "lm_cubed_rmse = lm_cubed_mse**1/2\n",
    "\n",
    "lm_cubed_rmse"
   ]
  },
  {
   "cell_type": "markdown",
   "metadata": {},
   "source": [
    "#### Tweedie Regressor (GLM) Model"
   ]
  },
  {
   "cell_type": "code",
   "execution_count": 39,
   "metadata": {},
   "outputs": [
    {
     "name": "stdout",
     "output_type": "stream",
     "text": [
      "RMSE for GLM using Tweedie, power=1 & alpha=0\n",
      "Training/In-Sample:  241760961284.40634 \n",
      "Validation/Out-of-Sample:  292299392470.37885\n"
     ]
    }
   ],
   "source": [
    "# create the model object\n",
    "glm = TweedieRegressor(power=1, alpha=0)\n",
    "\n",
    "# fit the model to our training data. We must specify the column in y_train, \n",
    "# since we have converted it to a dataframe from a series! \n",
    "glm.fit(X_train, y_train.tax_value)\n",
    "\n",
    "# predict train\n",
    "y_train['tv_pred_glm'] = glm.predict(X_train)\n",
    "\n",
    "# evaluate: rmse\n",
    "rmse_train = mean_squared_error(y_train.tax_value, y_train.tv_pred_glm)**1/2\n",
    "\n",
    "# predict validate\n",
    "y_validate['tv_pred_glm'] = glm.predict(X_validate)\n",
    "\n",
    "# evaluate: rmse\n",
    "rmse_validate = mean_squared_error(y_validate.tax_value, y_validate.tv_pred_glm)**1/2\n",
    "\n",
    "print(\"RMSE for GLM using Tweedie, power=1 & alpha=0\\nTraining/In-Sample: \", rmse_train, \n",
    "      \"\\nValidation/Out-of-Sample: \", rmse_validate)"
   ]
  },
  {
   "cell_type": "markdown",
   "metadata": {},
   "source": [
    "# Conclusion and Recommendations"
   ]
  },
  {
   "cell_type": "code",
   "execution_count": null,
   "metadata": {},
   "outputs": [],
   "source": []
  }
 ],
 "metadata": {
  "kernelspec": {
   "display_name": "Python 3",
   "language": "python",
   "name": "python3"
  },
  "language_info": {
   "codemirror_mode": {
    "name": "ipython",
    "version": 3
   },
   "file_extension": ".py",
   "mimetype": "text/x-python",
   "name": "python",
   "nbconvert_exporter": "python",
   "pygments_lexer": "ipython3",
   "version": "3.7.6"
  }
 },
 "nbformat": 4,
 "nbformat_minor": 4
}
