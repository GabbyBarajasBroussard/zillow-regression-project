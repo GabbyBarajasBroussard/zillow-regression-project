{
 "cells": [
  {
   "cell_type": "code",
   "execution_count": 1,
   "metadata": {},
   "outputs": [],
   "source": [
    "# Preparing the notebook by importing necessary modules\n",
    "from scipy import stats\n",
    "from math import sqrt\n",
    "import acquire\n",
    "import prepare\n",
    "from sklearn.model_selection import train_test_split\n",
    "from sklearn.linear_model import LogisticRegression\n",
    "from sklearn.tree import DecisionTreeClassifier\n",
    "from sklearn.ensemble import RandomForestClassifier\n",
    "from sklearn.metrics import classification_report\n",
    "from sklearn.metrics import confusion_matrix\n",
    "from sklearn.neighbors import KNeighborsClassifier\n",
    "\n",
    "import pandas as pd\n",
    "import numpy as np\n",
    "import seaborn as sns\n",
    "import matplotlib.pyplot as plt\n",
    "%matplotlib inline\n",
    "\n",
    "import warnings\n",
    "warnings.filterwarnings(\"ignore\")"
   ]
  },
  {
   "cell_type": "markdown",
   "metadata": {},
   "source": [
    "# Acquire "
   ]
  },
  {
   "cell_type": "code",
   "execution_count": 2,
   "metadata": {},
   "outputs": [
    {
     "data": {
      "text/plain": [
       "(28073, 10)"
      ]
     },
     "execution_count": 2,
     "metadata": {},
     "output_type": "execute_result"
    }
   ],
   "source": [
    "df= acquire.get_zillow_data()\n",
    "df.shape"
   ]
  },
  {
   "cell_type": "code",
   "execution_count": 3,
   "metadata": {},
   "outputs": [
    {
     "name": "stdout",
     "output_type": "stream",
     "text": [
      "<class 'pandas.core.frame.DataFrame'>\n",
      "RangeIndex: 28073 entries, 0 to 28072\n",
      "Data columns (total 10 columns):\n",
      " #   Column                        Non-Null Count  Dtype  \n",
      "---  ------                        --------------  -----  \n",
      " 0   Unnamed: 0                    28073 non-null  int64  \n",
      " 1   parcelid                      28073 non-null  int64  \n",
      " 2   fips                          28073 non-null  float64\n",
      " 3   latitude                      28073 non-null  float64\n",
      " 4   longitude                     28073 non-null  float64\n",
      " 5   bedroomcnt                    28073 non-null  float64\n",
      " 6   bathroomcnt                   28073 non-null  float64\n",
      " 7   calculatedfinishedsquarefeet  28070 non-null  float64\n",
      " 8   taxamount                     28072 non-null  float64\n",
      " 9   taxvaluedollarcnt             28072 non-null  float64\n",
      "dtypes: float64(8), int64(2)\n",
      "memory usage: 2.1 MB\n"
     ]
    }
   ],
   "source": [
    "df.info()"
   ]
  },
  {
   "cell_type": "code",
   "execution_count": 4,
   "metadata": {},
   "outputs": [
    {
     "data": {
      "text/html": [
       "<div>\n",
       "<style scoped>\n",
       "    .dataframe tbody tr th:only-of-type {\n",
       "        vertical-align: middle;\n",
       "    }\n",
       "\n",
       "    .dataframe tbody tr th {\n",
       "        vertical-align: top;\n",
       "    }\n",
       "\n",
       "    .dataframe thead th {\n",
       "        text-align: right;\n",
       "    }\n",
       "</style>\n",
       "<table border=\"1\" class=\"dataframe\">\n",
       "  <thead>\n",
       "    <tr style=\"text-align: right;\">\n",
       "      <th></th>\n",
       "      <th>parcelid</th>\n",
       "      <th>fips</th>\n",
       "      <th>latitude</th>\n",
       "      <th>longitude</th>\n",
       "      <th>bedroomcnt</th>\n",
       "      <th>bathroomcnt</th>\n",
       "      <th>calculatedfinishedsquarefeet</th>\n",
       "      <th>taxamount</th>\n",
       "      <th>taxvaluedollarcnt</th>\n",
       "    </tr>\n",
       "  </thead>\n",
       "  <tbody>\n",
       "    <tr>\n",
       "      <th>0</th>\n",
       "      <td>11721753</td>\n",
       "      <td>6037.0</td>\n",
       "      <td>34033180.0</td>\n",
       "      <td>-118355396.0</td>\n",
       "      <td>3.0</td>\n",
       "      <td>2.0</td>\n",
       "      <td>1316.0</td>\n",
       "      <td>2627.48</td>\n",
       "      <td>205123.0</td>\n",
       "    </tr>\n",
       "    <tr>\n",
       "      <th>1</th>\n",
       "      <td>11289917</td>\n",
       "      <td>6037.0</td>\n",
       "      <td>34686163.0</td>\n",
       "      <td>-118113100.0</td>\n",
       "      <td>3.0</td>\n",
       "      <td>2.0</td>\n",
       "      <td>1458.0</td>\n",
       "      <td>2319.90</td>\n",
       "      <td>136104.0</td>\n",
       "    </tr>\n",
       "    <tr>\n",
       "      <th>2</th>\n",
       "      <td>11705026</td>\n",
       "      <td>6037.0</td>\n",
       "      <td>33999877.0</td>\n",
       "      <td>-118291863.0</td>\n",
       "      <td>2.0</td>\n",
       "      <td>1.0</td>\n",
       "      <td>1421.0</td>\n",
       "      <td>543.69</td>\n",
       "      <td>35606.0</td>\n",
       "    </tr>\n",
       "    <tr>\n",
       "      <th>3</th>\n",
       "      <td>14269464</td>\n",
       "      <td>6059.0</td>\n",
       "      <td>33694636.0</td>\n",
       "      <td>-117912245.0</td>\n",
       "      <td>4.0</td>\n",
       "      <td>3.0</td>\n",
       "      <td>2541.0</td>\n",
       "      <td>9819.72</td>\n",
       "      <td>880456.0</td>\n",
       "    </tr>\n",
       "    <tr>\n",
       "      <th>4</th>\n",
       "      <td>11446756</td>\n",
       "      <td>6037.0</td>\n",
       "      <td>33873860.0</td>\n",
       "      <td>-118338253.0</td>\n",
       "      <td>3.0</td>\n",
       "      <td>2.0</td>\n",
       "      <td>1491.0</td>\n",
       "      <td>1399.27</td>\n",
       "      <td>107110.0</td>\n",
       "    </tr>\n",
       "  </tbody>\n",
       "</table>\n",
       "</div>"
      ],
      "text/plain": [
       "   parcelid    fips    latitude    longitude  bedroomcnt  bathroomcnt  \\\n",
       "0  11721753  6037.0  34033180.0 -118355396.0         3.0          2.0   \n",
       "1  11289917  6037.0  34686163.0 -118113100.0         3.0          2.0   \n",
       "2  11705026  6037.0  33999877.0 -118291863.0         2.0          1.0   \n",
       "3  14269464  6059.0  33694636.0 -117912245.0         4.0          3.0   \n",
       "4  11446756  6037.0  33873860.0 -118338253.0         3.0          2.0   \n",
       "\n",
       "   calculatedfinishedsquarefeet  taxamount  taxvaluedollarcnt  \n",
       "0                        1316.0    2627.48           205123.0  \n",
       "1                        1458.0    2319.90           136104.0  \n",
       "2                        1421.0     543.69            35606.0  \n",
       "3                        2541.0    9819.72           880456.0  \n",
       "4                        1491.0    1399.27           107110.0  "
      ]
     },
     "execution_count": 4,
     "metadata": {},
     "output_type": "execute_result"
    }
   ],
   "source": [
    "#first i am going to drop the unnamed column\n",
    "df= df.drop(columns=['Unnamed: 0'])\n",
    "df.head()"
   ]
  },
  {
   "cell_type": "code",
   "execution_count": 5,
   "metadata": {},
   "outputs": [
    {
     "data": {
      "text/html": [
       "<div>\n",
       "<style scoped>\n",
       "    .dataframe tbody tr th:only-of-type {\n",
       "        vertical-align: middle;\n",
       "    }\n",
       "\n",
       "    .dataframe tbody tr th {\n",
       "        vertical-align: top;\n",
       "    }\n",
       "\n",
       "    .dataframe thead th {\n",
       "        text-align: right;\n",
       "    }\n",
       "</style>\n",
       "<table border=\"1\" class=\"dataframe\">\n",
       "  <thead>\n",
       "    <tr style=\"text-align: right;\">\n",
       "      <th></th>\n",
       "      <th>parcelid</th>\n",
       "      <th>fips</th>\n",
       "      <th>latitude</th>\n",
       "      <th>longitude</th>\n",
       "      <th>bedroomcnt</th>\n",
       "      <th>bathroomcnt</th>\n",
       "      <th>calculatedfinishedsquarefeet</th>\n",
       "      <th>taxamount</th>\n",
       "      <th>taxvaluedollarcnt</th>\n",
       "    </tr>\n",
       "  </thead>\n",
       "  <tbody>\n",
       "    <tr>\n",
       "      <th>count</th>\n",
       "      <td>2.807300e+04</td>\n",
       "      <td>28073.000000</td>\n",
       "      <td>2.807300e+04</td>\n",
       "      <td>2.807300e+04</td>\n",
       "      <td>28073.000000</td>\n",
       "      <td>28073.000000</td>\n",
       "      <td>28070.000000</td>\n",
       "      <td>28072.000000</td>\n",
       "      <td>2.807200e+04</td>\n",
       "    </tr>\n",
       "    <tr>\n",
       "      <th>mean</th>\n",
       "      <td>1.303448e+07</td>\n",
       "      <td>6049.496349</td>\n",
       "      <td>3.402023e+07</td>\n",
       "      <td>-1.181959e+08</td>\n",
       "      <td>3.317814</td>\n",
       "      <td>2.322196</td>\n",
       "      <td>1935.358283</td>\n",
       "      <td>6487.964122</td>\n",
       "      <td>5.332710e+05</td>\n",
       "    </tr>\n",
       "    <tr>\n",
       "      <th>std</th>\n",
       "      <td>3.634770e+06</td>\n",
       "      <td>21.285999</td>\n",
       "      <td>2.750596e+05</td>\n",
       "      <td>3.603042e+05</td>\n",
       "      <td>0.928716</td>\n",
       "      <td>1.011392</td>\n",
       "      <td>995.141621</td>\n",
       "      <td>8166.165051</td>\n",
       "      <td>7.036372e+05</td>\n",
       "    </tr>\n",
       "    <tr>\n",
       "      <th>min</th>\n",
       "      <td>1.071186e+07</td>\n",
       "      <td>6037.000000</td>\n",
       "      <td>3.334085e+07</td>\n",
       "      <td>-1.194484e+08</td>\n",
       "      <td>1.000000</td>\n",
       "      <td>1.000000</td>\n",
       "      <td>300.000000</td>\n",
       "      <td>51.260000</td>\n",
       "      <td>1.000000e+03</td>\n",
       "    </tr>\n",
       "    <tr>\n",
       "      <th>25%</th>\n",
       "      <td>1.150992e+07</td>\n",
       "      <td>6037.000000</td>\n",
       "      <td>3.382229e+07</td>\n",
       "      <td>-1.184054e+08</td>\n",
       "      <td>3.000000</td>\n",
       "      <td>2.000000</td>\n",
       "      <td>1279.000000</td>\n",
       "      <td>2705.097500</td>\n",
       "      <td>1.986365e+05</td>\n",
       "    </tr>\n",
       "    <tr>\n",
       "      <th>50%</th>\n",
       "      <td>1.259418e+07</td>\n",
       "      <td>6037.000000</td>\n",
       "      <td>3.402298e+07</td>\n",
       "      <td>-1.181536e+08</td>\n",
       "      <td>3.000000</td>\n",
       "      <td>2.000000</td>\n",
       "      <td>1675.000000</td>\n",
       "      <td>4734.315000</td>\n",
       "      <td>3.822645e+05</td>\n",
       "    </tr>\n",
       "    <tr>\n",
       "      <th>75%</th>\n",
       "      <td>1.414833e+07</td>\n",
       "      <td>6059.000000</td>\n",
       "      <td>3.418804e+07</td>\n",
       "      <td>-1.179270e+08</td>\n",
       "      <td>4.000000</td>\n",
       "      <td>3.000000</td>\n",
       "      <td>2326.000000</td>\n",
       "      <td>7516.247500</td>\n",
       "      <td>6.316750e+05</td>\n",
       "    </tr>\n",
       "    <tr>\n",
       "      <th>max</th>\n",
       "      <td>1.676392e+08</td>\n",
       "      <td>6111.000000</td>\n",
       "      <td>3.481877e+07</td>\n",
       "      <td>-1.175554e+08</td>\n",
       "      <td>12.000000</td>\n",
       "      <td>11.000000</td>\n",
       "      <td>17245.000000</td>\n",
       "      <td>276797.830000</td>\n",
       "      <td>2.385837e+07</td>\n",
       "    </tr>\n",
       "  </tbody>\n",
       "</table>\n",
       "</div>"
      ],
      "text/plain": [
       "           parcelid          fips      latitude     longitude    bedroomcnt  \\\n",
       "count  2.807300e+04  28073.000000  2.807300e+04  2.807300e+04  28073.000000   \n",
       "mean   1.303448e+07   6049.496349  3.402023e+07 -1.181959e+08      3.317814   \n",
       "std    3.634770e+06     21.285999  2.750596e+05  3.603042e+05      0.928716   \n",
       "min    1.071186e+07   6037.000000  3.334085e+07 -1.194484e+08      1.000000   \n",
       "25%    1.150992e+07   6037.000000  3.382229e+07 -1.184054e+08      3.000000   \n",
       "50%    1.259418e+07   6037.000000  3.402298e+07 -1.181536e+08      3.000000   \n",
       "75%    1.414833e+07   6059.000000  3.418804e+07 -1.179270e+08      4.000000   \n",
       "max    1.676392e+08   6111.000000  3.481877e+07 -1.175554e+08     12.000000   \n",
       "\n",
       "        bathroomcnt  calculatedfinishedsquarefeet      taxamount  \\\n",
       "count  28073.000000                  28070.000000   28072.000000   \n",
       "mean       2.322196                   1935.358283    6487.964122   \n",
       "std        1.011392                    995.141621    8166.165051   \n",
       "min        1.000000                    300.000000      51.260000   \n",
       "25%        2.000000                   1279.000000    2705.097500   \n",
       "50%        2.000000                   1675.000000    4734.315000   \n",
       "75%        3.000000                   2326.000000    7516.247500   \n",
       "max       11.000000                  17245.000000  276797.830000   \n",
       "\n",
       "       taxvaluedollarcnt  \n",
       "count       2.807200e+04  \n",
       "mean        5.332710e+05  \n",
       "std         7.036372e+05  \n",
       "min         1.000000e+03  \n",
       "25%         1.986365e+05  \n",
       "50%         3.822645e+05  \n",
       "75%         6.316750e+05  \n",
       "max         2.385837e+07  "
      ]
     },
     "execution_count": 5,
     "metadata": {},
     "output_type": "execute_result"
    }
   ],
   "source": [
    "df.describe()"
   ]
  },
  {
   "cell_type": "markdown",
   "metadata": {},
   "source": [
    "Originally I got 77614 rows and 10 columns. I went back and edited my sql query to narrow features more closely.\n",
    "After editing my query to have bedrooms/bathrooms > 0, I got 28703 rows and 9 columns."
   ]
  },
  {
   "cell_type": "markdown",
   "metadata": {},
   "source": [
    "# Prepare"
   ]
  },
  {
   "cell_type": "markdown",
   "metadata": {},
   "source": [
    "To make reading the FIPS easier, I assigned the county names to each FIPS code and then appended the results onto the dataframe."
   ]
  },
  {
   "cell_type": "code",
   "execution_count": 6,
   "metadata": {},
   "outputs": [
    {
     "data": {
      "text/html": [
       "<div>\n",
       "<style scoped>\n",
       "    .dataframe tbody tr th:only-of-type {\n",
       "        vertical-align: middle;\n",
       "    }\n",
       "\n",
       "    .dataframe tbody tr th {\n",
       "        vertical-align: top;\n",
       "    }\n",
       "\n",
       "    .dataframe thead th {\n",
       "        text-align: right;\n",
       "    }\n",
       "</style>\n",
       "<table border=\"1\" class=\"dataframe\">\n",
       "  <thead>\n",
       "    <tr style=\"text-align: right;\">\n",
       "      <th></th>\n",
       "      <th>parcelid</th>\n",
       "      <th>fips</th>\n",
       "      <th>latitude</th>\n",
       "      <th>longitude</th>\n",
       "      <th>bedroomcnt</th>\n",
       "      <th>bathroomcnt</th>\n",
       "      <th>calculatedfinishedsquarefeet</th>\n",
       "      <th>taxamount</th>\n",
       "      <th>taxvaluedollarcnt</th>\n",
       "      <th>county</th>\n",
       "    </tr>\n",
       "  </thead>\n",
       "  <tbody>\n",
       "    <tr>\n",
       "      <th>0</th>\n",
       "      <td>11721753</td>\n",
       "      <td>6037.0</td>\n",
       "      <td>34033180.0</td>\n",
       "      <td>-118355396.0</td>\n",
       "      <td>3.0</td>\n",
       "      <td>2.0</td>\n",
       "      <td>1316.0</td>\n",
       "      <td>2627.48</td>\n",
       "      <td>205123.0</td>\n",
       "      <td>los_angeles_county</td>\n",
       "    </tr>\n",
       "  </tbody>\n",
       "</table>\n",
       "</div>"
      ],
      "text/plain": [
       "   parcelid    fips    latitude    longitude  bedroomcnt  bathroomcnt  \\\n",
       "0  11721753  6037.0  34033180.0 -118355396.0         3.0          2.0   \n",
       "\n",
       "   calculatedfinishedsquarefeet  taxamount  taxvaluedollarcnt  \\\n",
       "0                        1316.0    2627.48           205123.0   \n",
       "\n",
       "               county  \n",
       "0  los_angeles_county  "
      ]
     },
     "execution_count": 6,
     "metadata": {},
     "output_type": "execute_result"
    }
   ],
   "source": [
    "county_name = []\n",
    "for row in df['fips']:\n",
    "        if row == 6037.0:    \n",
    "            county_name.append('los_angeles_county')\n",
    "        elif row == 6059.0:   \n",
    "            county_name.append('orange_county')\n",
    "        elif row == 6111.0:  \n",
    "            county_name.append('ventura_county')\n",
    "        else:           \n",
    "            county_name.append('no_county')\n",
    "df['county']= county_name\n",
    "df.head(1)"
   ]
  },
  {
   "cell_type": "markdown",
   "metadata": {},
   "source": [
    "My first iteration of the dataframe had lots of nans/nulls. I handled them originally by filling them with the mode (most commonly occuring value) for each column."
   ]
  },
  {
   "cell_type": "code",
   "execution_count": 7,
   "metadata": {},
   "outputs": [],
   "source": [
    "df['bedroomcnt'].fillna(df['bedroomcnt'].mode()[0], inplace=True)\n",
    "df['bathroomcnt'].fillna(df['bathroomcnt'].mode()[0], inplace=True)\n",
    "df['calculatedfinishedsquarefeet'].fillna(df['calculatedfinishedsquarefeet'].mode()[0], inplace=True)\n",
    "df['fips'].fillna(df['fips'].mode()[0], inplace=True)\n",
    "df['taxamount'].fillna(df['taxamount'].mode()[0], inplace=True)\n",
    "df['taxvaluedollarcnt'].fillna(df['taxvaluedollarcnt'].mode()[0], inplace=True)"
   ]
  },
  {
   "cell_type": "code",
   "execution_count": 8,
   "metadata": {},
   "outputs": [
    {
     "data": {
      "text/plain": [
       "Text(0, 0.5, 'Count of Tax Value')"
      ]
     },
     "execution_count": 8,
     "metadata": {},
     "output_type": "execute_result"
    },
    {
     "data": {
      "image/png": "[encoded data removed]",
      "text/plain": [
       "<Figure size 2160x1440 with 7 Axes>"
      ]
     },
     "metadata": {
      "needs_background": "light"
     },
     "output_type": "display_data"
    }
   ],
   "source": [
    "plt.figure(figsize=(30, 20))\n",
    "\n",
    "plt.suptitle(\"Plotting the distributions of the numerical columns\")\n",
    "# row, columns, index\n",
    "plt.subplot(3, 3, 1)\n",
    "plt.hist(df.parcelid, align='left', edgecolor='darkblue', alpha=0.5, color='palevioletred')\n",
    "plt.title('Parcel ID')\n",
    "plt.xlabel(\"Parcel ID\")\n",
    "plt.ylabel(\"Count of Parcel ID\")\n",
    "\n",
    "\n",
    "plt.subplot(3, 3, 2)\n",
    "plt.hist(df.bedroomcnt, align='left', edgecolor='darkblue', alpha=0.5, color='palevioletred')\n",
    "plt.title('Bedroom Count')\n",
    "plt.xlabel(\"Number of Bedrooms\")\n",
    "plt.ylabel(\"Count of Number of Bedrooms\")\n",
    "\n",
    "\n",
    "plt.subplot(3, 3, 3)\n",
    "plt.hist(df.bathroomcnt, align='left', edgecolor='darkblue', alpha=0.5, color='palevioletred')\n",
    "plt.title('Bathroom Count')\n",
    "plt.xlabel(\"Number of Bathrooms\")\n",
    "plt.ylabel(\"Count of number of bathrooms\")\n",
    "\n",
    "\n",
    "plt.subplot(3, 3, 4)\n",
    "plt.hist(df.calculatedfinishedsquarefeet, align='left', edgecolor='darkblue', alpha=0.5, color='palevioletred')\n",
    "plt.title('Square Footage')\n",
    "plt.xlabel(\"Square Footage\")\n",
    "plt.ylabel(\"Count of Square Footage\")\n",
    "\n",
    "\n",
    "plt.subplot(3, 3, 5)\n",
    "plt.hist(df.fips, align='left', edgecolor='darkblue', alpha=0.5, color='palevioletred')\n",
    "plt.title('Federal Information Processing System (FIPS)')\n",
    "plt.xlabel(\"FIPS\")\n",
    "plt.ylabel(\"Count of Clients in each Tenure\")\n",
    "\n",
    "\n",
    "plt.subplot(3, 3, 6)\n",
    "plt.hist(df.taxamount, align='left', edgecolor='darkblue', alpha=0.5, color='palevioletred')\n",
    "plt.title('Tax Amount')\n",
    "plt.xlabel(\"Tax Amount\")\n",
    "plt.ylabel(\"Count of Tax Amount\")\n",
    "\n",
    "plt.subplot(3,3,7)\n",
    "plt.hist(df.taxvaluedollarcnt, align='left', edgecolor='darkblue', alpha=0.5, color='palevioletred')\n",
    "plt.title('Tax Value')\n",
    "plt.xlabel(\"Tax Value\")\n",
    "plt.ylabel(\"Count of Tax Value\")"
   ]
  },
  {
   "cell_type": "markdown",
   "metadata": {},
   "source": [
    "In the prepare.py created, the following functions are defined:\n",
    "<ul>\n",
    "    <li> clean_zillow- Takes in the full dataframe from acquire.py, handles nans, renames columns and appends necessary data.\n",
    "    <li> prep_zillow_data- Takes in the clean zillow data and splits into train, validate, test.\n",
    "    <li> prep_split_zillow_data- This function takes in the clean data, drops the tax amount for modeling purposes and then splits the data into X/Y Train, Validate/Test.\n",
    "    <li> remove_outliers_zillow- This function takes in the cleaned zillow data and handles outliers as needed."
   ]
  },
  {
   "cell_type": "markdown",
   "metadata": {},
   "source": [
    "# Explore"
   ]
  },
  {
   "cell_type": "code",
   "execution_count": 9,
   "metadata": {},
   "outputs": [
    {
     "name": "stdout",
     "output_type": "stream",
     "text": [
      "<class 'pandas.core.frame.DataFrame'>\n",
      "RangeIndex: 28073 entries, 0 to 28072\n",
      "Data columns (total 7 columns):\n",
      " #   Column          Non-Null Count  Dtype  \n",
      "---  ------          --------------  -----  \n",
      " 0   fips            28073 non-null  float64\n",
      " 1   bedroom_count   28073 non-null  float64\n",
      " 2   bathroom_count  28073 non-null  float64\n",
      " 3   square_feet     28073 non-null  float64\n",
      " 4   tax_amount      28073 non-null  float64\n",
      " 5   tax_value       28073 non-null  float64\n",
      " 6   county          28073 non-null  object \n",
      "dtypes: float64(6), object(1)\n",
      "memory usage: 1.5+ MB\n"
     ]
    }
   ],
   "source": [
    "df=prepare.clean_zillow()\n",
    "df.info()"
   ]
  },
  {
   "cell_type": "markdown",
   "metadata": {},
   "source": [
    "## Hypothesis Testing:\n",
    "### 1st Hypothesis Test:\n",
    "$H_0$: Homes have the same median tax value in each county.\n",
    "\n",
    "$H_a$: Homes in Los Angeles have a higher median tax value than in Ventura or Orange Counties.\n",
    "\n",
    "alpha ($\\alpha$): 1 - confidence level (95% confidence level -> $\\alpha = .05$)"
   ]
  },
  {
   "cell_type": "code",
   "execution_count": 11,
   "metadata": {},
   "outputs": [],
   "source": [
    "n = df.shape[0]     # number of observations\n",
    "degf = n - 2        # degrees of freedom: the # of values in the final calculation of a statistic that are free to vary.\n",
    "conf_interval = .95 # desired confidence interval\n",
    "α = 1 - conf_interval\n",
    "null_hypothesis = \"homes have the same median tax value in each county.\""
   ]
  },
  {
   "cell_type": "code",
   "execution_count": 12,
   "metadata": {},
   "outputs": [],
   "source": [
    "x1 = df[df.county == 'los_angeles_county'].tax_value\n",
    "x2 = df[df.county != 'los_angeles_county'].tax_value\n",
    "\n",
    "x_bar1 = x1.mean()\n",
    "x_bar2 = x2.mean()\n",
    "\n",
    "n1 = x1.shape[0]\n",
    "n2 = x2.shape[0]\n",
    "\n",
    "s1 = x1.std()\n",
    "s2 = x2.std()\n",
    "\n",
    "degf = n1 + n2 - 2\n",
    "\n",
    "s_p = sqrt(((n1 - 1) * s1**2 + (n2 - 1) * s2**2) / (n1 + n2 - 2))\n",
    "\n",
    "\n",
    "standard_error = se = sqrt(s1**2 / n1 + s2**2 / n2)\n",
    "\n",
    "t= (x_bar1 - x_bar2)/ (s_p * sqrt(1/n1 + 1/n2))"
   ]
  },
  {
   "cell_type": "code",
   "execution_count": 13,
   "metadata": {},
   "outputs": [
    {
     "name": "stdout",
     "output_type": "stream",
     "text": [
      "t = -8.68270\n",
      "p = 2.00000\n"
     ]
    },
    {
     "data": {
      "text/plain": [
       "Ttest_indResult(statistic=-8.682695597002182, pvalue=4.070703772062968e-18)"
      ]
     },
     "execution_count": 13,
     "metadata": {},
     "output_type": "execute_result"
    }
   ],
   "source": [
    "p = stats.t(degf).sf(t) * 2\n",
    "stats.ttest_ind(x1, x2)\n",
    "print(f't = {t:.5f}')\n",
    "print(f'p = {p:.5f}')\n",
    "stats.ttest_ind(x1, x2)"
   ]
  },
  {
   "cell_type": "code",
   "execution_count": 14,
   "metadata": {},
   "outputs": [
    {
     "name": "stdout",
     "output_type": "stream",
     "text": [
      "We fail to reject the null hypothesis. The null hypothesis is that homes have the same median tax value in each county.\n"
     ]
    }
   ],
   "source": [
    "if p > α:\n",
    "    print(\"We fail to reject the null hypothesis. The null hypothesis is that\", null_hypothesis)\n",
    "elif t < 0 :\n",
    "    print(\"We fail to reject the null hypothesis. The null hypothesis is that\", null_hypothesis)\n",
    "else:\n",
    "    print(\"We reject the null hypothesis that\", null_hypothesis)"
   ]
  },
  {
   "cell_type": "markdown",
   "metadata": {},
   "source": [
    "### 2nd Hypothesis Test:\n",
    "𝐻0 : Number of bathrooms have no correlation with tax value.\n",
    "\n",
    "𝐻𝑎 : Homes with more bathrooms are correlated with higher tax values.\n",
    "\n",
    "alpha ( 𝛼 ): 1 - confidence level (95% confidence level ->  𝛼=.05 )"
   ]
  },
  {
   "cell_type": "code",
   "execution_count": 16,
   "metadata": {},
   "outputs": [],
   "source": [
    "n = df.shape[0]     # number of observations\n",
    "degf = n - 2        # degrees of freedom: the # of values in the final calculation of a statistic that are free to vary.\n",
    "conf_interval = .95 # desired confidence interval\n",
    "α = 1 - conf_interval\n",
    "null_hypothesis='number of bathrooms have no correlation with tax value.'"
   ]
  },
  {
   "cell_type": "code",
   "execution_count": 25,
   "metadata": {},
   "outputs": [],
   "source": [
    "x = df.bathroom_count\n",
    "y = df.tax_value"
   ]
  },
  {
   "cell_type": "code",
   "execution_count": 26,
   "metadata": {},
   "outputs": [
    {
     "data": {
      "text/plain": [
       "(0.52616664170778, 0.0)"
      ]
     },
     "execution_count": 26,
     "metadata": {},
     "output_type": "execute_result"
    }
   ],
   "source": [
    "corr, p = stats.pearsonr(x, y)\n",
    "corr, p"
   ]
  },
  {
   "cell_type": "code",
   "execution_count": 19,
   "metadata": {},
   "outputs": [
    {
     "name": "stdout",
     "output_type": "stream",
     "text": [
      "We fail to reject the null hypothesis. The null hypothesis is that number of bathrooms have no correlation with tax value.\n"
     ]
    }
   ],
   "source": [
    "if p >  α:\n",
    "    print(\"We fail to reject the null hypothesis. The null hypothesis is that\", null_hypothesis)\n",
    "elif t < 0 :\n",
    "    print(\"We fail to reject the null hypothesis. The null hypothesis is that\", null_hypothesis)\n",
    "else:\n",
    "    print(\"We reject the null hypothesis that\", null_hypothesis)"
   ]
  },
  {
   "cell_type": "markdown",
   "metadata": {},
   "source": [
    "### 3rd Hypothesis Test:\n",
    "𝐻0 : Number of bedrooms have no correlation with tax value.\n",
    "\n",
    "𝐻𝑎 : Homes with more bedrooms are correlated with higher tax values.\n",
    "\n",
    "alpha ( 𝛼 ): 1 - confidence level (95% confidence level ->  𝛼=.05 )"
   ]
  },
  {
   "cell_type": "code",
   "execution_count": null,
   "metadata": {},
   "outputs": [],
   "source": [
    "n = df.shape[0]     # number of observations\n",
    "degf = n - 2        # degrees of freedom: the # of values in the final calculation of a statistic that are free to vary.\n",
    "conf_interval = .95 # desired confidence interval\n",
    "α = 1 - conf_interval\n",
    "null_hypothesis='number of bedrooms have no correlation with tax value.'"
   ]
  },
  {
   "cell_type": "code",
   "execution_count": null,
   "metadata": {},
   "outputs": [],
   "source": [
    "x2 = df.bedroom_count\n",
    "y2 = df.tax_value"
   ]
  },
  {
   "cell_type": "code",
   "execution_count": null,
   "metadata": {},
   "outputs": [],
   "source": [
    "corr, p = stats.pearsonr(x2, y2)\n",
    "corr, p"
   ]
  },
  {
   "cell_type": "code",
   "execution_count": null,
   "metadata": {},
   "outputs": [],
   "source": [
    "if p >  α:\n",
    "    print(\"We fail to reject the null hypothesis. The null hypothesis is that\", null_hypothesis)\n",
    "elif t < 0 :\n",
    "    print(\"We fail to reject the null hypothesis. The null hypothesis is that\", null_hypothesis)\n",
    "else:\n",
    "    print(\"We reject the null hypothesis that\", null_hypothesis)"
   ]
  },
  {
   "cell_type": "markdown",
   "metadata": {},
   "source": []
  },
  {
   "cell_type": "code",
   "execution_count": null,
   "metadata": {},
   "outputs": [],
   "source": []
  },
  {
   "cell_type": "code",
   "execution_count": null,
   "metadata": {},
   "outputs": [],
   "source": []
  },
  {
   "cell_type": "code",
   "execution_count": null,
   "metadata": {},
   "outputs": [],
   "source": []
  },
  {
   "cell_type": "code",
   "execution_count": null,
   "metadata": {},
   "outputs": [],
   "source": []
  },
  {
   "cell_type": "code",
   "execution_count": 21,
   "metadata": {},
   "outputs": [
    {
     "data": {
      "text/plain": [
       "<matplotlib.axes._subplots.AxesSubplot at 0x7fcc50a13ad0>"
      ]
     },
     "execution_count": 21,
     "metadata": {},
     "output_type": "execute_result"
    },
    {
     "data": {
      "image/png": "[encoded data removed]",
      "text/plain": [
       "<Figure size 432x288 with 1 Axes>"
      ]
     },
     "metadata": {
      "needs_background": "light"
     },
     "output_type": "display_data"
    }
   ],
   "source": [
    "#visualizing the distribution of square feet\n",
    "sns.distplot(train.square_feet, color='palevioletred')"
   ]
  },
  {
   "cell_type": "code",
   "execution_count": null,
   "metadata": {},
   "outputs": [],
   "source": [
    "#visualizing the distribution of square feet\n",
    "sns.distplot(train.tax_value, color='palevioletred')"
   ]
  },
  {
   "cell_type": "markdown",
   "metadata": {},
   "source": [
    "# Model"
   ]
  },
  {
   "cell_type": "code",
   "execution_count": 20,
   "metadata": {},
   "outputs": [
    {
     "data": {
      "text/plain": [
       "((15720, 7), (6738, 7), (5615, 7))"
      ]
     },
     "execution_count": 20,
     "metadata": {},
     "output_type": "execute_result"
    }
   ],
   "source": [
    "np.random.seed(1019)\n",
    "train, validate, test = prepare.prep_zillow_data()\n",
    "train.shape, validate.shape, test.shape"
   ]
  },
  {
   "cell_type": "markdown",
   "metadata": {},
   "source": [
    "# Feature Engineering"
   ]
  },
  {
   "cell_type": "markdown",
   "metadata": {},
   "source": [
    "# Conclusion and Recommendations"
   ]
  },
  {
   "cell_type": "code",
   "execution_count": null,
   "metadata": {},
   "outputs": [],
   "source": []
  }
 ],
 "metadata": {
  "kernelspec": {
   "display_name": "Python 3",
   "language": "python",
   "name": "python3"
  },
  "language_info": {
   "codemirror_mode": {
    "name": "ipython",
    "version": 3
   },
   "file_extension": ".py",
   "mimetype": "text/x-python",
   "name": "python",
   "nbconvert_exporter": "python",
   "pygments_lexer": "ipython3",
   "version": "3.7.6"
  }
 },
 "nbformat": 4,
 "nbformat_minor": 4
}
