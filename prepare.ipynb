{
 "cells": [
  {
   "cell_type": "code",
   "execution_count": 3,
   "metadata": {},
   "outputs": [],
   "source": [
    "import pandas as pd\n",
    "import numpy as np\n",
    "import os\n",
    "import env\n",
    "import acquire\n",
    "import seaborn as sns\n",
    "import matplotlib.pyplot as plt\n",
    "from sklearn.model_selection import train_test_split\n",
    "import sklearn.preprocessing\n",
    "from sklearn.impute import SimpleImputer\n",
    "from sklearn.preprocessing import LabelEncoder, OneHotEncoder, MinMaxScaler"
   ]
  },
  {
   "cell_type": "markdown",
   "metadata": {},
   "source": [
    "Goal: leave this section with a dataset that is split into train, validate, and test ready to be analyzed. Make sure data types are appropriate and missing values have been addressed, as have any data integrity issues.\n",
    "\n",
    "Think about the following in this stage:\n",
    "\n",
    "This might include plotting the distributions of individual variables and using those plots to identify and decide how best to handle any outliers.\n",
    "\n",
    "You might also identify unit measures to decide how best to scale any numeric data as you see necessary.\n",
    "\n",
    "Identify erroneous or invalid data that may exist in your dataframe.\n",
    "\n",
    "Add a data dictionary in your notebook at this point that defines all the fields used in your model and your analysis and answers the question, \"Why did you use the fields you used?\". e.g. \"Why did you use bedroom_field1 over bedroom_field2?\", not, \"Why did you use number of bedrooms?\"\n",
    "\n",
    "Create a prep.pyfile as the reproducible component that handles missing values, fixes data integrity issues, changes data types, scales data, etc."
   ]
  },
  {
   "cell_type": "code",
   "execution_count": 4,
   "metadata": {},
   "outputs": [
    {
     "data": {
      "text/html": [
       "<div>\n",
       "<style scoped>\n",
       "    .dataframe tbody tr th:only-of-type {\n",
       "        vertical-align: middle;\n",
       "    }\n",
       "\n",
       "    .dataframe tbody tr th {\n",
       "        vertical-align: top;\n",
       "    }\n",
       "\n",
       "    .dataframe thead th {\n",
       "        text-align: right;\n",
       "    }\n",
       "</style>\n",
       "<table border=\"1\" class=\"dataframe\">\n",
       "  <thead>\n",
       "    <tr style=\"text-align: right;\">\n",
       "      <th></th>\n",
       "      <th>parcelid</th>\n",
       "      <th>fips</th>\n",
       "      <th>latitude</th>\n",
       "      <th>longitude</th>\n",
       "      <th>bedroomcnt</th>\n",
       "      <th>bathroomcnt</th>\n",
       "      <th>calculatedfinishedsquarefeet</th>\n",
       "      <th>taxamount</th>\n",
       "      <th>taxvaluedollarcnt</th>\n",
       "    </tr>\n",
       "  </thead>\n",
       "  <tbody>\n",
       "    <tr>\n",
       "      <th>0</th>\n",
       "      <td>14297519</td>\n",
       "      <td>6059.0</td>\n",
       "      <td>33634931.0</td>\n",
       "      <td>-117869207.0</td>\n",
       "      <td>4.0</td>\n",
       "      <td>3.5</td>\n",
       "      <td>3100.0</td>\n",
       "      <td>11013.72</td>\n",
       "      <td>1023282.0</td>\n",
       "    </tr>\n",
       "    <tr>\n",
       "      <th>1</th>\n",
       "      <td>17052889</td>\n",
       "      <td>6111.0</td>\n",
       "      <td>34449266.0</td>\n",
       "      <td>-119281531.0</td>\n",
       "      <td>2.0</td>\n",
       "      <td>1.0</td>\n",
       "      <td>1465.0</td>\n",
       "      <td>5672.48</td>\n",
       "      <td>464000.0</td>\n",
       "    </tr>\n",
       "    <tr>\n",
       "      <th>2</th>\n",
       "      <td>14186244</td>\n",
       "      <td>6059.0</td>\n",
       "      <td>33886168.0</td>\n",
       "      <td>-117823170.0</td>\n",
       "      <td>3.0</td>\n",
       "      <td>2.0</td>\n",
       "      <td>1243.0</td>\n",
       "      <td>6488.30</td>\n",
       "      <td>564778.0</td>\n",
       "    </tr>\n",
       "    <tr>\n",
       "      <th>3</th>\n",
       "      <td>12177905</td>\n",
       "      <td>6037.0</td>\n",
       "      <td>34245180.0</td>\n",
       "      <td>-118240722.0</td>\n",
       "      <td>4.0</td>\n",
       "      <td>3.0</td>\n",
       "      <td>2376.0</td>\n",
       "      <td>1777.51</td>\n",
       "      <td>145143.0</td>\n",
       "    </tr>\n",
       "    <tr>\n",
       "      <th>4</th>\n",
       "      <td>10887214</td>\n",
       "      <td>6037.0</td>\n",
       "      <td>34185120.0</td>\n",
       "      <td>-118414640.0</td>\n",
       "      <td>3.0</td>\n",
       "      <td>3.0</td>\n",
       "      <td>1312.0</td>\n",
       "      <td>1533.89</td>\n",
       "      <td>119407.0</td>\n",
       "    </tr>\n",
       "  </tbody>\n",
       "</table>\n",
       "</div>"
      ],
      "text/plain": [
       "   parcelid    fips    latitude    longitude  bedroomcnt  bathroomcnt  \\\n",
       "0  14297519  6059.0  33634931.0 -117869207.0         4.0          3.5   \n",
       "1  17052889  6111.0  34449266.0 -119281531.0         2.0          1.0   \n",
       "2  14186244  6059.0  33886168.0 -117823170.0         3.0          2.0   \n",
       "3  12177905  6037.0  34245180.0 -118240722.0         4.0          3.0   \n",
       "4  10887214  6037.0  34185120.0 -118414640.0         3.0          3.0   \n",
       "\n",
       "   calculatedfinishedsquarefeet  taxamount  taxvaluedollarcnt  \n",
       "0                        3100.0   11013.72          1023282.0  \n",
       "1                        1465.0    5672.48           464000.0  \n",
       "2                        1243.0    6488.30           564778.0  \n",
       "3                        2376.0    1777.51           145143.0  \n",
       "4                        1312.0    1533.89           119407.0  "
      ]
     },
     "execution_count": 4,
     "metadata": {},
     "output_type": "execute_result"
    }
   ],
   "source": [
    "df= acquire.get_zillow_data()\n",
    "df.head()"
   ]
  },
  {
   "cell_type": "code",
   "execution_count": null,
   "metadata": {},
   "outputs": [],
   "source": [
    "df.shape"
   ]
  },
  {
   "cell_type": "code",
   "execution_count": 6,
   "metadata": {},
   "outputs": [
    {
     "data": {
      "text/plain": [
       "10857130    3\n",
       "12612211    3\n",
       "11991059    3\n",
       "13083743    3\n",
       "12402398    2\n",
       "           ..\n",
       "14482882    1\n",
       "13892885    1\n",
       "10741014    1\n",
       "11244824    1\n",
       "14298875    1\n",
       "Name: parcelid, Length: 77414, dtype: int64"
      ]
     },
     "execution_count": 6,
     "metadata": {},
     "output_type": "execute_result"
    }
   ],
   "source": []
  },
  {
   "cell_type": "code",
   "execution_count": 5,
   "metadata": {},
   "outputs": [
    {
     "data": {
      "text/plain": [
       "6037.0    50697\n",
       "6059.0    20631\n",
       "6111.0     6252\n",
       "Name: fips, dtype: int64"
      ]
     },
     "execution_count": 5,
     "metadata": {},
     "output_type": "execute_result"
    }
   ],
   "source": [
    "df.fips.value_counts()"
   ]
  },
  {
   "cell_type": "code",
   "execution_count": 14,
   "metadata": {},
   "outputs": [
    {
     "data": {
      "text/plain": [
       "parcelid                         0\n",
       "fips                             0\n",
       "latitude                        34\n",
       "longitude                       34\n",
       "bedroomcnt                       0\n",
       "bathroomcnt                      0\n",
       "calculatedfinishedsquarefeet     0\n",
       "taxamount                        0\n",
       "taxvaluedollarcnt                0\n",
       "dtype: int64"
      ]
     },
     "execution_count": 14,
     "metadata": {},
     "output_type": "execute_result"
    }
   ],
   "source": [
    "df.isnull().sum()"
   ]
  },
  {
   "cell_type": "code",
   "execution_count": 13,
   "metadata": {},
   "outputs": [],
   "source": [
    "df['bedroomcnt'].fillna(df['bedroomcnt'].mode()[0], inplace=True)\n",
    "df['bathroomcnt'].fillna(df['bathroomcnt'].mode()[0], inplace=True)\n",
    "df['calculatedfinishedsquarefeet'].fillna(df['calculatedfinishedsquarefeet'].mode()[0], inplace=True)\n",
    "df['fips'].fillna(df['fips'].mode()[0], inplace=True)\n",
    "df['taxamount'].fillna(df['taxamount'].mode()[0], inplace=True)\n",
    "df['taxvaluedollarcnt'].fillna(df['taxvaluedollarcnt'].mode()[0], inplace=True)"
   ]
  },
  {
   "cell_type": "code",
   "execution_count": null,
   "metadata": {},
   "outputs": [],
   "source": [
    "df.isnull().sum()"
   ]
  },
  {
   "cell_type": "code",
   "execution_count": 17,
   "metadata": {},
   "outputs": [],
   "source": [
    "rating = []\n",
    "for row in df['fips']:\n",
    "        if row == 6037.0:    rating.append('los_angeles_county')\n",
    "        elif row == 6059.0:   rating.append('orange_county')\n",
    "        elif row == 6111.0:  rating.append('ventura_county')\n",
    "        else:           rating.append('no_county')\n",
    "df['county']= rating"
   ]
  },
  {
   "cell_type": "code",
   "execution_count": 19,
   "metadata": {},
   "outputs": [
    {
     "data": {
      "text/html": [
       "<div>\n",
       "<style scoped>\n",
       "    .dataframe tbody tr th:only-of-type {\n",
       "        vertical-align: middle;\n",
       "    }\n",
       "\n",
       "    .dataframe tbody tr th {\n",
       "        vertical-align: top;\n",
       "    }\n",
       "\n",
       "    .dataframe thead th {\n",
       "        text-align: right;\n",
       "    }\n",
       "</style>\n",
       "<table border=\"1\" class=\"dataframe\">\n",
       "  <thead>\n",
       "    <tr style=\"text-align: right;\">\n",
       "      <th></th>\n",
       "      <th>parcelid</th>\n",
       "      <th>fips</th>\n",
       "      <th>latitude</th>\n",
       "      <th>longitude</th>\n",
       "      <th>bedroomcnt</th>\n",
       "      <th>bathroomcnt</th>\n",
       "      <th>calculatedfinishedsquarefeet</th>\n",
       "      <th>taxamount</th>\n",
       "      <th>taxvaluedollarcnt</th>\n",
       "      <th>county</th>\n",
       "    </tr>\n",
       "  </thead>\n",
       "  <tbody>\n",
       "    <tr>\n",
       "      <th>0</th>\n",
       "      <td>14297519</td>\n",
       "      <td>6059.0</td>\n",
       "      <td>33634931.0</td>\n",
       "      <td>-117869207.0</td>\n",
       "      <td>4.0</td>\n",
       "      <td>3.5</td>\n",
       "      <td>3100.0</td>\n",
       "      <td>11013.72</td>\n",
       "      <td>1023282.0</td>\n",
       "      <td>orange_county</td>\n",
       "    </tr>\n",
       "    <tr>\n",
       "      <th>1</th>\n",
       "      <td>17052889</td>\n",
       "      <td>6111.0</td>\n",
       "      <td>34449266.0</td>\n",
       "      <td>-119281531.0</td>\n",
       "      <td>2.0</td>\n",
       "      <td>1.0</td>\n",
       "      <td>1465.0</td>\n",
       "      <td>5672.48</td>\n",
       "      <td>464000.0</td>\n",
       "      <td>ventura_county</td>\n",
       "    </tr>\n",
       "    <tr>\n",
       "      <th>2</th>\n",
       "      <td>14186244</td>\n",
       "      <td>6059.0</td>\n",
       "      <td>33886168.0</td>\n",
       "      <td>-117823170.0</td>\n",
       "      <td>3.0</td>\n",
       "      <td>2.0</td>\n",
       "      <td>1243.0</td>\n",
       "      <td>6488.30</td>\n",
       "      <td>564778.0</td>\n",
       "      <td>orange_county</td>\n",
       "    </tr>\n",
       "    <tr>\n",
       "      <th>3</th>\n",
       "      <td>12177905</td>\n",
       "      <td>6037.0</td>\n",
       "      <td>34245180.0</td>\n",
       "      <td>-118240722.0</td>\n",
       "      <td>4.0</td>\n",
       "      <td>3.0</td>\n",
       "      <td>2376.0</td>\n",
       "      <td>1777.51</td>\n",
       "      <td>145143.0</td>\n",
       "      <td>los_angeles_county</td>\n",
       "    </tr>\n",
       "    <tr>\n",
       "      <th>4</th>\n",
       "      <td>10887214</td>\n",
       "      <td>6037.0</td>\n",
       "      <td>34185120.0</td>\n",
       "      <td>-118414640.0</td>\n",
       "      <td>3.0</td>\n",
       "      <td>3.0</td>\n",
       "      <td>1312.0</td>\n",
       "      <td>1533.89</td>\n",
       "      <td>119407.0</td>\n",
       "      <td>los_angeles_county</td>\n",
       "    </tr>\n",
       "  </tbody>\n",
       "</table>\n",
       "</div>"
      ],
      "text/plain": [
       "   parcelid    fips    latitude    longitude  bedroomcnt  bathroomcnt  \\\n",
       "0  14297519  6059.0  33634931.0 -117869207.0         4.0          3.5   \n",
       "1  17052889  6111.0  34449266.0 -119281531.0         2.0          1.0   \n",
       "2  14186244  6059.0  33886168.0 -117823170.0         3.0          2.0   \n",
       "3  12177905  6037.0  34245180.0 -118240722.0         4.0          3.0   \n",
       "4  10887214  6037.0  34185120.0 -118414640.0         3.0          3.0   \n",
       "\n",
       "   calculatedfinishedsquarefeet  taxamount  taxvaluedollarcnt  \\\n",
       "0                        3100.0   11013.72          1023282.0   \n",
       "1                        1465.0    5672.48           464000.0   \n",
       "2                        1243.0    6488.30           564778.0   \n",
       "3                        2376.0    1777.51           145143.0   \n",
       "4                        1312.0    1533.89           119407.0   \n",
       "\n",
       "               county  \n",
       "0       orange_county  \n",
       "1      ventura_county  \n",
       "2       orange_county  \n",
       "3  los_angeles_county  \n",
       "4  los_angeles_county  "
      ]
     },
     "execution_count": 19,
     "metadata": {},
     "output_type": "execute_result"
    }
   ],
   "source": [
    "df.head()"
   ]
  },
  {
   "cell_type": "code",
   "execution_count": 20,
   "metadata": {},
   "outputs": [
    {
     "data": {
      "text/plain": [
       "Text(0, 0.5, 'Count of Tax Value')"
      ]
     },
     "execution_count": 20,
     "metadata": {},
     "output_type": "execute_result"
    },
    {
     "data": {
      "image/png": "[encoded data removed]",
      "text/plain": [
       "<Figure size 2160x1440 with 7 Axes>"
      ]
     },
     "metadata": {
      "needs_background": "light"
     },
     "output_type": "display_data"
    }
   ],
   "source": [
    "plt.figure(figsize=(30, 20))\n",
    "\n",
    "plt.suptitle(\"Plotting the distributions of the numerical columns\")\n",
    "# row, columns, index\n",
    "plt.subplot(3, 3, 1)\n",
    "plt.hist(df.parcelid, align='left', edgecolor='darkblue', alpha=0.5, color='palevioletred')\n",
    "plt.title('Parcel ID')\n",
    "plt.xlabel(\"Parcel ID\")\n",
    "plt.ylabel(\"Count of Parcel ID\")\n",
    "\n",
    "\n",
    "plt.subplot(3, 3, 2)\n",
    "plt.hist(df.bedroomcnt, align='left', edgecolor='darkblue', alpha=0.5, color='palevioletred')\n",
    "plt.title('Bedroom Count')\n",
    "plt.xlabel(\"Number of Bedrooms\")\n",
    "plt.ylabel(\"Count of Number of Bedrooms\")\n",
    "\n",
    "\n",
    "plt.subplot(3, 3, 3)\n",
    "plt.hist(df.bathroomcnt, align='left', edgecolor='darkblue', alpha=0.5, color='palevioletred')\n",
    "plt.title('Bathroom Count')\n",
    "plt.xlabel(\"Number of Bathrooms\")\n",
    "plt.ylabel(\"Count of number of bathrooms\")\n",
    "\n",
    "\n",
    "plt.subplot(3, 3, 4)\n",
    "plt.hist(df.calculatedfinishedsquarefeet, align='left', edgecolor='darkblue', alpha=0.5, color='palevioletred')\n",
    "plt.title('Square Footage')\n",
    "plt.xlabel(\"Square Footage\")\n",
    "plt.ylabel(\"Count of Square Footage\")\n",
    "\n",
    "\n",
    "plt.subplot(3, 3, 5)\n",
    "plt.hist(df.fips, align='left', edgecolor='darkblue', alpha=0.5, color='palevioletred')\n",
    "plt.title('Federal Information Processing System (FIPS)')\n",
    "plt.xlabel(\"FIPS\")\n",
    "plt.ylabel(\"Count of Clients in each Tenure\")\n",
    "\n",
    "\n",
    "plt.subplot(3, 3, 6)\n",
    "plt.hist(df.taxamount, align='left', edgecolor='darkblue', alpha=0.5, color='palevioletred')\n",
    "plt.title('Tax Amount')\n",
    "plt.xlabel(\"Tax Amount\")\n",
    "plt.ylabel(\"Count of Tax Amount\")\n",
    "\n",
    "plt.subplot(3,3,7)\n",
    "plt.hist(df.taxvaluedollarcnt, align='left', edgecolor='darkblue', alpha=0.5, color='palevioletred')\n",
    "plt.title('Tax Value')\n",
    "plt.xlabel(\"Tax Value\")\n",
    "plt.ylabel(\"Count of Tax Value\")"
   ]
  },
  {
   "cell_type": "code",
   "execution_count": null,
   "metadata": {},
   "outputs": [],
   "source": [
    "def clean_zillow():\n",
    "    #get the zillow data\n",
    "    df= get_zillow_data()\n",
    "    #handle the nan's\n",
    "    df['bedroomcnt'].fillna(df['bedroomcnt'].mode()[0], inplace=True)\n",
    "    df['bathroomcnt'].fillna(df['bathroomcnt'].mode()[0], inplace=True)\n",
    "    df['calculatedfinishedsquarefeet'].fillna(df['calculatedfinishedsquarefeet'].mode()[0], inplace=True)\n",
    "    df['fips'].fillna(df['fips'].mode()[0], inplace=True)\n",
    "    df['taxamount'].fillna(df['taxamount'].mode()[0], inplace=True)\n",
    "    df['taxvaluedollarcnt'].fillna(df['taxvaluedollarcnt'].mode()[0], inplace=True)\n",
    "    # make new column for county names\n",
    "    rating = []\n",
    "    for row in df['fips']:\n",
    "        if row == 6037.0:    rating.append('los_angeles_county')\n",
    "        elif row == 6059.0:   rating.append('orange_county')\n",
    "        elif row == 6111.0:  rating.append('ventura_county')\n",
    "        else:           rating.append('no_county')\n",
    "    df['county']= rating\n",
    "    #rename columns to make it easier to call later\n",
    "    df= df.rename(columns={\"bedroomcnt\": \"bedroom_count\",\"bathroomcnt\": \"bathroom_count\",\n",
    "                      \"calculatedfinishedsquarefeet\": \"square_feet\", \"taxamount\": \"tax_amount\", \"taxvaluedollarcnt\": \"tax_value\")\n",
    "                      })\n",
    "    # drop unneeded columns\n",
    "    df= df.drop(columns=[\"Unnamed: 0\", \"parcelid\"])\n",
    "    # return the clean dataframe\n",
    "    return df"
   ]
  },
  {
   "cell_type": "code",
   "execution_count": null,
   "metadata": {},
   "outputs": [],
   "source": [
    "def prep_zillow_data():\n",
    "    '''This function takes in the cleaned zillow data and returns a train, validate, and test data sets.'''\n",
    "    df= clean_zillow()\n",
    "    train_validate, test = train_test_split(df, test_size=.2, random_state=123)\n",
    "    train, validate = train_test_split(train_validate, test_size=.3, random_state=123) \n",
    "    return train, validate, test"
   ]
  },
  {
   "cell_type": "code",
   "execution_count": null,
   "metadata": {},
   "outputs": [],
   "source": [
    "def prep_split_zillow_data():\n",
    "    '''This function takes in the clean data, drops the tax amount for modeling purposes and then splits the data into X/Y Train, Validate/Test.'''\n",
    "    df=clean_zillow()\n",
    "    df= df.drop(columns='taxamount')\n",
    "    X_train = train.drop(columns='tax_value')\n",
    "    X_validate = validate.drop(columns='tax_value')\n",
    "    X_test = test.drop(columns='tax_value')\n",
    "\n",
    "    y_train = train['tax_value']\n",
    "    y_validate = validate['tax_value']\n",
    "    y_test = test['tax_value']\n",
    "    return X_train, X_validate, X_test, y_train, y_validate, y_test"
   ]
  }
 ],
 "metadata": {
  "kernelspec": {
   "display_name": "Python 3",
   "language": "python",
   "name": "python3"
  },
  "language_info": {
   "codemirror_mode": {
    "name": "ipython",
    "version": 3
   },
   "file_extension": ".py",
   "mimetype": "text/x-python",
   "name": "python",
   "nbconvert_exporter": "python",
   "pygments_lexer": "ipython3",
   "version": "3.7.6"
  }
 },
 "nbformat": 4,
 "nbformat_minor": 4
}
